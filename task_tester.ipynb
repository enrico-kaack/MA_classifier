{
 "metadata": {
  "language_info": {
   "codemirror_mode": {
    "name": "ipython",
    "version": 3
   },
   "file_extension": ".py",
   "mimetype": "text/x-python",
   "name": "python",
   "nbconvert_exporter": "python",
   "pygments_lexer": "ipython3",
   "version": "3.8.5-final"
  },
  "orig_nbformat": 2,
  "kernelspec": {
   "name": "python37364bitownclassifiervenv97636dc04982443f83ed0d68878d1cc4",
   "display_name": "Python 3.7.3 64-bit ('own_classifier': venv)"
  }
 },
 "nbformat": 4,
 "nbformat_minor": 2,
 "cells": [
  {
   "cell_type": "code",
   "execution_count": 1,
   "metadata": {
    "tags": []
   },
   "outputs": [
    {
     "output_type": "stream",
     "name": "stderr",
     "text": "Loading postgres module without psycopg2 installed. Will crash at runtime if postgres functionality is used.\nLoading S3 module without the python package boto3. Will crash at runtime if S3 functionality is used.\nWelcome to d6tflow!\n"
    }
   ],
   "source": [
    "import d6tflow\n",
    "from tasks.random_forest import ProblemType\n",
    "from tasks.random_forest import TaskTrainTestSplit"
   ]
  },
  {
   "cell_type": "code",
   "execution_count": 2,
   "metadata": {
    "tags": []
   },
   "outputs": [
    {
     "output_type": "stream",
     "name": "stdout",
     "text": "\n└─--[TaskEvaluateRandomForest-{'input_src_path': 'raw_data', 'max_vocab_size': '1000', 'problem_type': 'RETURN_NONE', 'window_size': '20', 'step_size': '3', 'oversampling_enabled': 'True', 'ratio_after_oversampling': '0.5', 'test_split_percentage': '0.25', 'n_trees_in_forest': '100', 'max_features': 'sqrt'} (\u001b[94mPENDING\u001b[0m)]\n   |--[TaskTrainRandomForest-{'input_src_path': 'raw_data', 'max_vocab_size': '1000', 'problem_type': 'RETURN_NONE', 'window_size': '20', 'step_size': '3', 'oversampling_enabled': 'True', 'ratio_after_oversampling': '0.5', 'test_split_percentage': '0.25', 'n_trees_in_forest': '100', 'max_features': 'sqrt'} (\u001b[94mPENDING\u001b[0m)]\n   |  └─--[TaskTrainTestSplit-{'input_src_path': 'raw_data', 'max_vocab_size': '1000', 'problem_type': 'RETURN_NONE', 'window_size': '20', 'step_size': '3', 'oversampling_enabled': 'True', 'ratio_after_oversampling': '0.5', 'test_split_percentage': '0.25'} (\u001b[94mPENDING\u001b[0m)]\n   |     └─--[TaskPrepareXY-{'input_src_path': 'raw_data', 'max_vocab_size': '1000', 'problem_type': 'RETURN_NONE', 'window_size': '20', 'step_size': '3'} (\u001b[92mCOMPLETE\u001b[0m)]\n   |        |--[TaskRuleProcessor-{'input_src_path': 'raw_data'} (\u001b[92mCOMPLETE\u001b[0m)]\n   |        |  └─--[TaskSourceFileToDataStructure-{'input_src_path': 'raw_data'} (\u001b[92mCOMPLETE\u001b[0m)]\n   |        └─--[TaskVocabCreator-{'input_src_path': 'raw_data', 'max_vocab_size': '1000'} (\u001b[92mCOMPLETE\u001b[0m)]\n   |           └─--[TaskSourceFileToDataStructure-{'input_src_path': 'raw_data'} (\u001b[92mCOMPLETE\u001b[0m)]\n   └─--[TaskTrainTestSplit-{'input_src_path': 'raw_data', 'max_vocab_size': '1000', 'problem_type': 'RETURN_NONE', 'window_size': '20', 'step_size': '3', 'oversampling_enabled': 'True', 'ratio_after_oversampling': '0.5', 'test_split_percentage': '0.25'} (\u001b[94mPENDING\u001b[0m)]\n      └─--[TaskPrepareXY-{'input_src_path': 'raw_data', 'max_vocab_size': '1000', 'problem_type': 'RETURN_NONE', 'window_size': '20', 'step_size': '3'} (\u001b[92mCOMPLETE\u001b[0m)]\n         |--[TaskRuleProcessor-{'input_src_path': 'raw_data'} (\u001b[92mCOMPLETE\u001b[0m)]\n         |  └─--[TaskSourceFileToDataStructure-{'input_src_path': 'raw_data'} (\u001b[92mCOMPLETE\u001b[0m)]\n         └─--[TaskVocabCreator-{'input_src_path': 'raw_data', 'max_vocab_size': '1000'} (\u001b[92mCOMPLETE\u001b[0m)]\n            └─--[TaskSourceFileToDataStructure-{'input_src_path': 'raw_data'} (\u001b[92mCOMPLETE\u001b[0m)]\n"
    }
   ],
   "source": [
    "d6tflow.preview(TaskEvaluateRandomForest(problem_type=ProblemType.RETURN_NONE))\n"
   ]
  },
  {
   "cell_type": "code",
   "execution_count": 3,
   "metadata": {
    "tags": []
   },
   "outputs": [
    {
     "output_type": "stream",
     "name": "stderr",
     "text": "INFO: Informed scheduler that task   TaskEvaluateRandomForest_raw_data_sqrt_1000_34f7c74ae1   has status   PENDING\nINFO: Informed scheduler that task   TaskTrainTestSplit_raw_data_1000_True_51d4fde913   has status   PENDING\nINFO: Informed scheduler that task   TaskPrepareXY_raw_data_1000_RETURN_NONE_bd5584a752   has status   DONE\nINFO: Informed scheduler that task   TaskTrainRandomForest_raw_data_sqrt_1000_34f7c74ae1   has status   PENDING\nINFO: Done scheduling tasks\nINFO: Running Worker with 1 processes\nINFO: [pid 4573] Worker Worker(salt=852209781, workers=1, host=C02YV751LVDQ, username=d064518, pid=4573) running   TaskTrainTestSplit(input_src_path=raw_data, max_vocab_size=1000, problem_type=RETURN_NONE, window_size=20, step_size=3, oversampling_enabled=True, ratio_after_oversampling=0.5, test_split_percentage=0.25)\nINFO: [pid 4573] Worker Worker(salt=852209781, workers=1, host=C02YV751LVDQ, username=d064518, pid=4573) done      TaskTrainTestSplit(input_src_path=raw_data, max_vocab_size=1000, problem_type=RETURN_NONE, window_size=20, step_size=3, oversampling_enabled=True, ratio_after_oversampling=0.5, test_split_percentage=0.25)\nINFO:luigi-interface:[pid 4573] Worker Worker(salt=852209781, workers=1, host=C02YV751LVDQ, username=d064518, pid=4573) done      TaskTrainTestSplit(input_src_path=raw_data, max_vocab_size=1000, problem_type=RETURN_NONE, window_size=20, step_size=3, oversampling_enabled=True, ratio_after_oversampling=0.5, test_split_percentage=0.25)\nINFO: Informed scheduler that task   TaskTrainTestSplit_raw_data_1000_True_51d4fde913   has status   DONE\nINFO:luigi-interface:Informed scheduler that task   TaskTrainTestSplit_raw_data_1000_True_51d4fde913   has status   DONE\nINFO: [pid 4573] Worker Worker(salt=852209781, workers=1, host=C02YV751LVDQ, username=d064518, pid=4573) running   TaskTrainRandomForest(input_src_path=raw_data, max_vocab_size=1000, problem_type=RETURN_NONE, window_size=20, step_size=3, oversampling_enabled=True, ratio_after_oversampling=0.5, test_split_percentage=0.25, n_trees_in_forest=100, max_features=sqrt)\nINFO:luigi-interface:[pid 4573] Worker Worker(salt=852209781, workers=1, host=C02YV751LVDQ, username=d064518, pid=4573) running   TaskTrainRandomForest(input_src_path=raw_data, max_vocab_size=1000, problem_type=RETURN_NONE, window_size=20, step_size=3, oversampling_enabled=True, ratio_after_oversampling=0.5, test_split_percentage=0.25, n_trees_in_forest=100, max_features=sqrt)\n[Parallel(n_jobs=-1)]: Using backend ThreadingBackend with 12 concurrent workers.\n[Parallel(n_jobs=-1)]: Done  26 tasks      | elapsed:    3.7s\n[Parallel(n_jobs=-1)]: Done 100 out of 100 | elapsed:    9.9s finished\nINFO: [pid 4573] Worker Worker(salt=852209781, workers=1, host=C02YV751LVDQ, username=d064518, pid=4573) done      TaskTrainRandomForest(input_src_path=raw_data, max_vocab_size=1000, problem_type=RETURN_NONE, window_size=20, step_size=3, oversampling_enabled=True, ratio_after_oversampling=0.5, test_split_percentage=0.25, n_trees_in_forest=100, max_features=sqrt)\nINFO:luigi-interface:[pid 4573] Worker Worker(salt=852209781, workers=1, host=C02YV751LVDQ, username=d064518, pid=4573) done      TaskTrainRandomForest(input_src_path=raw_data, max_vocab_size=1000, problem_type=RETURN_NONE, window_size=20, step_size=3, oversampling_enabled=True, ratio_after_oversampling=0.5, test_split_percentage=0.25, n_trees_in_forest=100, max_features=sqrt)\nINFO: Informed scheduler that task   TaskTrainRandomForest_raw_data_sqrt_1000_34f7c74ae1   has status   DONE\nINFO:luigi-interface:Informed scheduler that task   TaskTrainRandomForest_raw_data_sqrt_1000_34f7c74ae1   has status   DONE\nINFO: [pid 4573] Worker Worker(salt=852209781, workers=1, host=C02YV751LVDQ, username=d064518, pid=4573) running   TaskEvaluateRandomForest(input_src_path=raw_data, max_vocab_size=1000, problem_type=RETURN_NONE, window_size=20, step_size=3, oversampling_enabled=True, ratio_after_oversampling=0.5, test_split_percentage=0.25, n_trees_in_forest=100, max_features=sqrt)\nINFO:luigi-interface:[pid 4573] Worker Worker(salt=852209781, workers=1, host=C02YV751LVDQ, username=d064518, pid=4573) running   TaskEvaluateRandomForest(input_src_path=raw_data, max_vocab_size=1000, problem_type=RETURN_NONE, window_size=20, step_size=3, oversampling_enabled=True, ratio_after_oversampling=0.5, test_split_percentage=0.25, n_trees_in_forest=100, max_features=sqrt)\nERROR: [pid 4573] Worker Worker(salt=852209781, workers=1, host=C02YV751LVDQ, username=d064518, pid=4573) failed    TaskEvaluateRandomForest(input_src_path=raw_data, max_vocab_size=1000, problem_type=RETURN_NONE, window_size=20, step_size=3, oversampling_enabled=True, ratio_after_oversampling=0.5, test_split_percentage=0.25, n_trees_in_forest=100, max_features=sqrt)\nTraceback (most recent call last):\n  File \"/Users/d064518/.virtualenvs/own_classifier/lib/python3.8/site-packages/luigi/worker.py\", line 191, in run\n    new_deps = self._run_get_new_deps()\n  File \"/Users/d064518/.virtualenvs/own_classifier/lib/python3.8/site-packages/luigi/worker.py\", line 133, in _run_get_new_deps\n    task_gen = self.task.run()\n  File \"/Users/d064518/MA_classifier/tasks/random_forest.py\", line 114, in run\n    print(data)\nNameError: name 'data' is not defined\nERROR:luigi-interface:[pid 4573] Worker Worker(salt=852209781, workers=1, host=C02YV751LVDQ, username=d064518, pid=4573) failed    TaskEvaluateRandomForest(input_src_path=raw_data, max_vocab_size=1000, problem_type=RETURN_NONE, window_size=20, step_size=3, oversampling_enabled=True, ratio_after_oversampling=0.5, test_split_percentage=0.25, n_trees_in_forest=100, max_features=sqrt)\nTraceback (most recent call last):\n  File \"/Users/d064518/.virtualenvs/own_classifier/lib/python3.8/site-packages/luigi/worker.py\", line 191, in run\n    new_deps = self._run_get_new_deps()\n  File \"/Users/d064518/.virtualenvs/own_classifier/lib/python3.8/site-packages/luigi/worker.py\", line 133, in _run_get_new_deps\n    task_gen = self.task.run()\n  File \"/Users/d064518/MA_classifier/tasks/random_forest.py\", line 114, in run\n    print(data)\nNameError: name 'data' is not defined\nINFO: Informed scheduler that task   TaskEvaluateRandomForest_raw_data_sqrt_1000_34f7c74ae1   has status   FAILED\nINFO:luigi-interface:Informed scheduler that task   TaskEvaluateRandomForest_raw_data_sqrt_1000_34f7c74ae1   has status   FAILED\nINFO: Worker Worker(salt=852209781, workers=1, host=C02YV751LVDQ, username=d064518, pid=4573) was stopped. Shutting down Keep-Alive thread\nINFO:luigi-interface:Worker Worker(salt=852209781, workers=1, host=C02YV751LVDQ, username=d064518, pid=4573) was stopped. Shutting down Keep-Alive thread\nINFO: \n===== Luigi Execution Summary =====\n\nScheduled 4 tasks of which:\n* 1 complete ones were encountered:\n    - 1 TaskPrepareXY(input_src_path=raw_data, max_vocab_size=1000, problem_type=RETURN_NONE, window_size=20, step_size=3)\n* 2 ran successfully:\n    - 1 TaskTrainRandomForest(...)\n    - 1 TaskTrainTestSplit(...)\n* 1 failed:\n    - 1 TaskEvaluateRandomForest(...)\n\nThis progress looks :( because there were failed tasks\n\n===== Luigi Execution Summary =====\n\nINFO:luigi-interface:\n===== Luigi Execution Summary =====\n\nScheduled 4 tasks of which:\n* 1 complete ones were encountered:\n    - 1 TaskPrepareXY(input_src_path=raw_data, max_vocab_size=1000, problem_type=RETURN_NONE, window_size=20, step_size=3)\n* 2 ran successfully:\n    - 1 TaskTrainRandomForest(...)\n    - 1 TaskTrainTestSplit(...)\n* 1 failed:\n    - 1 TaskEvaluateRandomForest(...)\n\nThis progress looks :( because there were failed tasks\n\n===== Luigi Execution Summary =====\n\n"
    },
    {
     "output_type": "error",
     "ename": "RuntimeError",
     "evalue": "Exception found running flow, check trace",
     "traceback": [
      "\u001b[0;31m---------------------------------------------------------------------------\u001b[0m",
      "\u001b[0;31mRuntimeError\u001b[0m                              Traceback (most recent call last)",
      "\u001b[0;32m<ipython-input-3-c14f1714fbbc>\u001b[0m in \u001b[0;36m<module>\u001b[0;34m\u001b[0m\n\u001b[0;32m----> 1\u001b[0;31m \u001b[0md6tflow\u001b[0m\u001b[0;34m.\u001b[0m\u001b[0mrun\u001b[0m\u001b[0;34m(\u001b[0m\u001b[0mTaskEvaluateRandomForest\u001b[0m\u001b[0;34m(\u001b[0m\u001b[0mproblem_type\u001b[0m\u001b[0;34m=\u001b[0m\u001b[0mProblemType\u001b[0m\u001b[0;34m.\u001b[0m\u001b[0mRETURN_NONE\u001b[0m\u001b[0;34m)\u001b[0m\u001b[0;34m)\u001b[0m\u001b[0;34m\u001b[0m\u001b[0;34m\u001b[0m\u001b[0m\n\u001b[0m",
      "\u001b[0;32m~/.virtualenvs/own_classifier/lib/python3.8/site-packages/d6tflow/__init__.py\u001b[0m in \u001b[0;36mrun\u001b[0;34m(tasks, forced, forced_all, forced_all_upstream, confirm, workers, abort, **kwargs)\u001b[0m\n\u001b[1;32m     97\u001b[0m     \u001b[0mresult\u001b[0m \u001b[0;34m=\u001b[0m \u001b[0mluigi\u001b[0m\u001b[0;34m.\u001b[0m\u001b[0mbuild\u001b[0m\u001b[0;34m(\u001b[0m\u001b[0mtasks\u001b[0m\u001b[0;34m,\u001b[0m \u001b[0;34m**\u001b[0m\u001b[0mopts\u001b[0m\u001b[0;34m)\u001b[0m\u001b[0;34m\u001b[0m\u001b[0;34m\u001b[0m\u001b[0m\n\u001b[1;32m     98\u001b[0m     \u001b[0;32mif\u001b[0m \u001b[0mabort\u001b[0m \u001b[0;32mand\u001b[0m \u001b[0;32mnot\u001b[0m \u001b[0mresult\u001b[0m\u001b[0;34m:\u001b[0m\u001b[0;34m\u001b[0m\u001b[0;34m\u001b[0m\u001b[0m\n\u001b[0;32m---> 99\u001b[0;31m         \u001b[0;32mraise\u001b[0m \u001b[0mRuntimeError\u001b[0m\u001b[0;34m(\u001b[0m\u001b[0;34m'Exception found running flow, check trace'\u001b[0m\u001b[0;34m)\u001b[0m\u001b[0;34m\u001b[0m\u001b[0;34m\u001b[0m\u001b[0m\n\u001b[0m\u001b[1;32m    100\u001b[0m \u001b[0;34m\u001b[0m\u001b[0m\n\u001b[1;32m    101\u001b[0m     \u001b[0;32mreturn\u001b[0m \u001b[0mresult\u001b[0m\u001b[0;34m\u001b[0m\u001b[0;34m\u001b[0m\u001b[0m\n",
      "\u001b[0;31mRuntimeError\u001b[0m: Exception found running flow, check trace"
     ]
    }
   ],
   "source": [
    "d6tflow.run(Task(problem_type=ProblemType.RETURN_NONE))\n"
   ]
  }
 ]
}