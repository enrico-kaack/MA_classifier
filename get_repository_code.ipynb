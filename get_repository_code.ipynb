{
 "metadata": {
  "language_info": {
   "codemirror_mode": {
    "name": "ipython",
    "version": 3
   },
   "file_extension": ".py",
   "mimetype": "text/x-python",
   "name": "python",
   "nbconvert_exporter": "python",
   "pygments_lexer": "ipython3",
   "version": "3.8.3-final"
  },
  "orig_nbformat": 2,
  "kernelspec": {
   "name": "python38364bit22d896432a824a1a939cf1d12b36dea7",
   "display_name": "Python 3.8.3 64-bit"
  }
 },
 "nbformat": 4,
 "nbformat_minor": 2,
 "cells": [
  {
   "cell_type": "code",
   "execution_count": 20,
   "metadata": {},
   "outputs": [],
   "source": [
    "import wget"
   ]
  },
  {
   "cell_type": "code",
   "execution_count": 21,
   "metadata": {},
   "outputs": [],
   "source": [
    "git_url=\"https://github.com/scikit-learn/scikit-learn/archive/master.zip\"\n",
    "org = \"scikit-learn\"\n",
    "repo = \"scikit-learn\"\n",
    "def download_url_contructor(org, repo):\n",
    "    return f\"https://github.com/{org}/{repo}/archive/master.zip\""
   ]
  },
  {
   "cell_type": "code",
   "execution_count": 22,
   "metadata": {
    "tags": []
   },
   "outputs": [
    {
     "output_type": "execute_result",
     "data": {
      "text/plain": "'scikit-learn-master.zip'"
     },
     "metadata": {},
     "execution_count": 22
    }
   ],
   "source": [
    "def downloadRepository(git_url):\n",
    "    filename = wget.download(git_url)\n",
    "    return filename\n",
    "\n",
    "zip_file = downloadRepository(download_url_contructor(org, repo))\n",
    "zip_file"
   ]
  },
  {
   "cell_type": "code",
   "execution_count": 23,
   "metadata": {
    "tags": []
   },
   "outputs": [],
   "source": [
    "from zipfile import ZipFile\n",
    "import os\n",
    "import logging\n",
    "\n",
    "def extract_repository(file_name, org, repo, target):\n",
    "    target_path = os.path.join(target, f\"{org}/{repo}\")\n",
    "\n",
    "    if os.path.exists(target_path):\n",
    "        logging.error(f\"Target path {target_path} already exists\")\n",
    "        return\n",
    "    os.makedirs(target_path)\n",
    "    with ZipFile(file_name, \"r\") as zipObject:\n",
    "        extracted_name = zipObject.extractall(target_path)\n",
    "        return target_path\n",
    "\n",
    "if extract_repository(zip_file, org, repo, \"raw_data/\") != None:\n",
    "    os.remove(zip_file)"
   ]
  },
  {
   "cell_type": "code",
   "execution_count": 24,
   "metadata": {},
   "outputs": [],
   "source": [
    "def remove_non_python_file(dir):\n",
    "    for dir_path, dir_names, file_names in os.walk(dir):\n",
    "        for f in file_names:\n",
    "            _, file_extension = os.path.splitext(f)\n",
    "            if file_extension != \".py\":\n",
    "                os.remove(os.path.join(dir_path, f))\n",
    "remove_non_python_file(\"raw_data/\")"
   ]
  }
 ]
}