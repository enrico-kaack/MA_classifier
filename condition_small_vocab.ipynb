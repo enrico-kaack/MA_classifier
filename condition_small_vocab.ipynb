{
 "metadata": {
  "language_info": {
   "codemirror_mode": {
    "name": "ipython",
    "version": 3
   },
   "file_extension": ".py",
   "mimetype": "text/x-python",
   "name": "python",
   "nbconvert_exporter": "python",
   "pygments_lexer": "ipython3",
   "version": "3.8.5-final"
  },
  "orig_nbformat": 2,
  "kernelspec": {
   "name": "python37364bitownclassifiervenv97636dc04982443f83ed0d68878d1cc4",
   "display_name": "Python 3.7.3 64-bit ('own_classifier': venv)"
  }
 },
 "nbformat": 4,
 "nbformat_minor": 2,
 "cells": [
  {
   "cell_type": "code",
   "execution_count": null,
   "metadata": {
    "tags": []
   },
   "outputs": [],
   "source": [
    "import d6tflow\n",
    "from tasks.preprocessing import ProblemType, TaskVocabCreator\n",
    "from tasks.random_forest import TaskEvaluateRandomForest"
   ]
  },
  {
   "cell_type": "code",
   "execution_count": null,
   "metadata": {},
   "outputs": [],
   "source": [
    "d6tflow.settings.log_level = 'WARNING' # 'DEBUG', 'INFO', 'WARNING', 'ERROR', 'CRITICAL'"
   ]
  },
  {
   "cell_type": "code",
   "execution_count": null,
   "metadata": {
    "tags": []
   },
   "outputs": [],
   "source": [
    "d6tflow.run(TaskVocabCreator(max_vocab_size=1000))"
   ]
  },
  {
   "cell_type": "code",
   "execution_count": null,
   "metadata": {
    "tags": []
   },
   "outputs": [],
   "source": [
    "d6tflow.run(TaskEvaluateRandomForest(problem_type=ProblemType.CONDITION_COMPARISON, oversampling_enabled=True, ratio_after_oversampling=0.5))\n"
   ]
  },
  {
   "cell_type": "code",
   "execution_count": null,
   "metadata": {
    "tags": []
   },
   "outputs": [],
   "source": [
    "d6tflow.run(TaskEvaluateRandomForest(problem_type=ProblemType.CONDITION_COMPARISON, oversampling_enabled=True, ratio_after_oversampling=1.0))"
   ]
  },
  {
   "cell_type": "code",
   "execution_count": null,
   "metadata": {
    "tags": []
   },
   "outputs": [],
   "source": [
    "d6tflow.run(TaskEvaluateRandomForest(problem_type=ProblemType.CONDITION_COMPARISON, oversampling_enabled=False, undersampling_enabled=True, ratio_after_undersampling=0.5))"
   ]
  },
  {
   "cell_type": "code",
   "execution_count": null,
   "metadata": {
    "tags": []
   },
   "outputs": [],
   "source": [
    "d6tflow.run(TaskEvaluateRandomForest(problem_type=ProblemType.CONDITION_COMPARISON, oversampling_enabled=False, undersampling_enabled=True, ratio_after_undersampling=0.1))"
   ]
  },
  {
   "cell_type": "markdown",
   "metadata": {},
   "source": [
    "# SVM"
   ]
  },
  {
   "cell_type": "code",
   "execution_count": null,
   "metadata": {
    "tags": []
   },
   "outputs": [],
   "source": [
    "import d6tflow\n",
    "from tasks.svm import TaskEvaluateSVM, TaskTrainSVM\n",
    "from tasks.preprocessing import TaskTrainTestSplit\n",
    "from tasks.preprocessing import ProblemType"
   ]
  },
  {
   "cell_type": "code",
   "execution_count": null,
   "metadata": {
    "tags": []
   },
   "outputs": [],
   "source": [
    "d6tflow.run(TaskEvaluateSVM(problem_type=ProblemType.CONDITION_COMPARISON, oversampling_enabled=False, undersampling_enabled=True, ratio_after_undersampling=0.5, svm_kernel=\"rbf\", svm_predict_probability=True))"
   ]
  },
  {
   "cell_type": "code",
   "execution_count": null,
   "metadata": {
    "tags": []
   },
   "outputs": [],
   "source": [
    "d6tflow.run(TaskEvaluateSVM(problem_type=ProblemType.CONDITION_COMPARISON, oversampling_enabled=False, undersampling_enabled=True, ratio_after_undersampling=0.1, svm_kernel=\"rbf\", svm_predict_probability=True))"
   ]
  },
  {
   "cell_type": "code",
   "execution_count": null,
   "metadata": {
    "tags": []
   },
   "outputs": [],
   "source": [
    "d6tflow.run(TaskEvaluateSVM(problem_type=ProblemType.CONDITION_COMPARISON, oversampling_enabled=False, undersampling_enabled=True, ratio_after_undersampling=0.5, svm_kernel=\"rbf\", svm_predict_probability=True, svm_class_weight=\"balanced\"))"
   ]
  },
  {
   "cell_type": "code",
   "execution_count": null,
   "metadata": {
    "tags": []
   },
   "outputs": [],
   "source": [
    "d6tflow.run(TaskEvaluateSVM(problem_type=ProblemType.CONDITION_COMPARISON, oversampling_enabled=False, undersampling_enabled=True, ratio_after_undersampling=0.3, svm_kernel=\"rbf\", svm_predict_probability=True, svm_class_weight=\"balanced\"))"
   ]
  },
  {
   "cell_type": "markdown",
   "metadata": {},
   "source": [
    "# Gradient Boosting Trees"
   ]
  },
  {
   "cell_type": "code",
   "execution_count": null,
   "metadata": {
    "tags": []
   },
   "outputs": [],
   "source": [
    "import d6tflow\n",
    "from tasks.gradient_boosting_classifier import TaskEvaluateGradientBoostingClassifier, TaskTrainGradientBoostingClassifier\n",
    "from tasks.preprocessing import TaskTrainTestSplit\n",
    "from tasks.preprocessing import ProblemType"
   ]
  },
  {
   "cell_type": "code",
   "execution_count": null,
   "metadata": {
    "tags": []
   },
   "outputs": [],
   "source": [
    "d6tflow.run(TaskEvaluateGradientBoostingClassifier(problem_type=ProblemType.CONDITION_COMPARISON, oversampling_enabled=False, undersampling_enabled=True, ratio_after_undersampling=0.5, learning_rate=0.1, n_estimators=100))"
   ]
  },
  {
   "cell_type": "code",
   "execution_count": null,
   "metadata": {
    "tags": []
   },
   "outputs": [],
   "source": [
    "d6tflow.run(TaskEvaluateGradientBoostingClassifier(problem_type=ProblemType.CONDITION_COMPARISON, oversampling_enabled=False, undersampling_enabled=True, ratio_after_undersampling=0.5, learning_rate=0.2, n_estimators=100))"
   ]
  },
  {
   "cell_type": "code",
   "execution_count": null,
   "metadata": {
    "tags": [
     "outputPrepend"
    ]
   },
   "outputs": [],
   "source": [
    "from models.random_forst import decode_vector\n",
    "from tasks.preprocessing import TaskVocabCreator\n",
    "\n",
    "df = TaskEvaluateGradientBoostingClassifier(problem_type=ProblemType.CONDITION_COMPARISON, oversampling_enabled=False, undersampling_enabled=True, ratio_after_undersampling=0.5, learning_rate=0.1, n_estimators=100).outputLoad()\n",
    "vocab = TaskVocabCreator().outputLoad()\n",
    "reversed_vocab = dict([(value, key) for key, value in vocab.items()]) \n",
    "\n",
    "wrong_predicted = df[df[\"ground_truth\"] == 1 ]#!= df[\"predicted\"]]\n",
    "wrong_predicted[\"decoded\"] = wrong_predicted[\"x\"].apply(lambda row: decode_vector(row, reversed_vocab))\n",
    "wrong_predicted[\"src\"] = wrong_predicted[\"decoded\"].apply(lambda row: \" \".join(row[1::2]))\n",
    "wrong_predicted[wrong_predicted[\"ground_truth\"] == 1][\"src\"].apply(lambda row: print(row))\n"
   ]
  }
 ]
}