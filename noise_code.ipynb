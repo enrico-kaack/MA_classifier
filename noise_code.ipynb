{
 "metadata": {
  "language_info": {
   "codemirror_mode": {
    "name": "ipython",
    "version": 3
   },
   "file_extension": ".py",
   "mimetype": "text/x-python",
   "name": "python",
   "nbconvert_exporter": "python",
   "pygments_lexer": "ipython3",
   "version": "3.8.5-final"
  },
  "orig_nbformat": 2,
  "kernelspec": {
   "name": "python37364bitownclassifiervenv97636dc04982443f83ed0d68878d1cc4",
   "display_name": "Python 3.7.3 64-bit ('own_classifier': venv)"
  }
 },
 "nbformat": 4,
 "nbformat_minor": 2,
 "cells": [
  {
   "cell_type": "code",
   "execution_count": 1,
   "metadata": {},
   "outputs": [],
   "source": [
    "from io import BytesIO\n",
    "from tokenize import tokenize, untokenize, TokenInfo\n",
    "import tokenize as tk"
   ]
  },
  {
   "cell_type": "code",
   "execution_count": 2,
   "metadata": {},
   "outputs": [],
   "source": [
    "sample_code = \"\"\"\n",
    "def myfunc():\n",
    "    return None\n",
    "def second(a,b):\n",
    "    if a < b:\n",
    "        return None\n",
    "\"\"\""
   ]
  },
  {
   "cell_type": "code",
   "execution_count": 3,
   "metadata": {},
   "outputs": [
    {
     "output_type": "execute_result",
     "data": {
      "text/plain": "'\\ndef myfunc():\\n    return None\\ndef second(a,b):\\n    if a < b:\\n        return None\\n'"
     },
     "metadata": {},
     "execution_count": 3
    }
   ],
   "source": [
    "sample_code"
   ]
  },
  {
   "cell_type": "code",
   "execution_count": 4,
   "metadata": {},
   "outputs": [],
   "source": [
    "import re\n",
    "import random\n",
    "\n",
    "lines_to_replace= [2, 5]\n",
    "replacements = [\"return a if a < 2 else None\", return None if a < 2 else a]\n",
    "def callback(matchobj):\n",
    "    return random.choice(replacements)\n",
    "\n",
    "lines = sample_code.splitlines(keepends=False)\n",
    "for i in lines_to_replace:\n",
    "    line = lines[i]\n",
    "    new_line = re.sub(\"return None\", callback, line)\n",
    "    lines[i] = new_line\n",
    "sample_code = \"\\n\".join(lines)"
   ]
  },
  {
   "cell_type": "code",
   "execution_count": 5,
   "metadata": {},
   "outputs": [
    {
     "output_type": "execute_result",
     "data": {
      "text/plain": "'\\ndef myfunc():\\n    return a if a < 2 else None\\ndef second(a,b):\\n    if a < b:\\n        return a if a < 2 else None'"
     },
     "metadata": {},
     "execution_count": 5
    }
   ],
   "source": [
    "sample_code"
   ]
  },
  {
   "cell_type": "code",
   "execution_count": 6,
   "metadata": {},
   "outputs": [
    {
     "output_type": "execute_result",
     "data": {
      "text/plain": "[TokenInfo(type=62 (ENCODING), string='utf-8', start=(0, 0), end=(0, 0), line=''),\n TokenInfo(type=61 (NL), string='\\n', start=(1, 0), end=(1, 1), line='\\n'),\n TokenInfo(type=1 (NAME), string='def', start=(2, 0), end=(2, 3), line='def myfunc():\\n'),\n TokenInfo(type=1 (NAME), string='myfunc', start=(2, 4), end=(2, 10), line='def myfunc():\\n'),\n TokenInfo(type=54 (OP), string='(', start=(2, 10), end=(2, 11), line='def myfunc():\\n'),\n TokenInfo(type=54 (OP), string=')', start=(2, 11), end=(2, 12), line='def myfunc():\\n'),\n TokenInfo(type=54 (OP), string=':', start=(2, 12), end=(2, 13), line='def myfunc():\\n'),\n TokenInfo(type=4 (NEWLINE), string='\\n', start=(2, 13), end=(2, 14), line='def myfunc():\\n'),\n TokenInfo(type=5 (INDENT), string='    ', start=(3, 0), end=(3, 4), line='    return a if a < 2 else None\\n'),\n TokenInfo(type=1 (NAME), string='return', start=(3, 4), end=(3, 10), line='    return a if a < 2 else None\\n'),\n TokenInfo(type=1 (NAME), string='a', start=(3, 11), end=(3, 12), line='    return a if a < 2 else None\\n'),\n TokenInfo(type=1 (NAME), string='if', start=(3, 13), end=(3, 15), line='    return a if a < 2 else None\\n'),\n TokenInfo(type=1 (NAME), string='a', start=(3, 16), end=(3, 17), line='    return a if a < 2 else None\\n'),\n TokenInfo(type=54 (OP), string='<', start=(3, 18), end=(3, 19), line='    return a if a < 2 else None\\n'),\n TokenInfo(type=2 (NUMBER), string='2', start=(3, 20), end=(3, 21), line='    return a if a < 2 else None\\n'),\n TokenInfo(type=1 (NAME), string='else', start=(3, 22), end=(3, 26), line='    return a if a < 2 else None\\n'),\n TokenInfo(type=1 (NAME), string='None', start=(3, 27), end=(3, 31), line='    return a if a < 2 else None\\n'),\n TokenInfo(type=4 (NEWLINE), string='\\n', start=(3, 31), end=(3, 32), line='    return a if a < 2 else None\\n'),\n TokenInfo(type=6 (DEDENT), string='', start=(4, 0), end=(4, 0), line='def second(a,b):\\n'),\n TokenInfo(type=1 (NAME), string='def', start=(4, 0), end=(4, 3), line='def second(a,b):\\n'),\n TokenInfo(type=1 (NAME), string='second', start=(4, 4), end=(4, 10), line='def second(a,b):\\n'),\n TokenInfo(type=54 (OP), string='(', start=(4, 10), end=(4, 11), line='def second(a,b):\\n'),\n TokenInfo(type=1 (NAME), string='a', start=(4, 11), end=(4, 12), line='def second(a,b):\\n'),\n TokenInfo(type=54 (OP), string=',', start=(4, 12), end=(4, 13), line='def second(a,b):\\n'),\n TokenInfo(type=1 (NAME), string='b', start=(4, 13), end=(4, 14), line='def second(a,b):\\n'),\n TokenInfo(type=54 (OP), string=')', start=(4, 14), end=(4, 15), line='def second(a,b):\\n'),\n TokenInfo(type=54 (OP), string=':', start=(4, 15), end=(4, 16), line='def second(a,b):\\n'),\n TokenInfo(type=4 (NEWLINE), string='\\n', start=(4, 16), end=(4, 17), line='def second(a,b):\\n'),\n TokenInfo(type=5 (INDENT), string='    ', start=(5, 0), end=(5, 4), line='    if a < b:\\n'),\n TokenInfo(type=1 (NAME), string='if', start=(5, 4), end=(5, 6), line='    if a < b:\\n'),\n TokenInfo(type=1 (NAME), string='a', start=(5, 7), end=(5, 8), line='    if a < b:\\n'),\n TokenInfo(type=54 (OP), string='<', start=(5, 9), end=(5, 10), line='    if a < b:\\n'),\n TokenInfo(type=1 (NAME), string='b', start=(5, 11), end=(5, 12), line='    if a < b:\\n'),\n TokenInfo(type=54 (OP), string=':', start=(5, 12), end=(5, 13), line='    if a < b:\\n'),\n TokenInfo(type=4 (NEWLINE), string='\\n', start=(5, 13), end=(5, 14), line='    if a < b:\\n'),\n TokenInfo(type=5 (INDENT), string='        ', start=(6, 0), end=(6, 8), line='        return a if a < 2 else None'),\n TokenInfo(type=1 (NAME), string='return', start=(6, 8), end=(6, 14), line='        return a if a < 2 else None'),\n TokenInfo(type=1 (NAME), string='a', start=(6, 15), end=(6, 16), line='        return a if a < 2 else None'),\n TokenInfo(type=1 (NAME), string='if', start=(6, 17), end=(6, 19), line='        return a if a < 2 else None'),\n TokenInfo(type=1 (NAME), string='a', start=(6, 20), end=(6, 21), line='        return a if a < 2 else None'),\n TokenInfo(type=54 (OP), string='<', start=(6, 22), end=(6, 23), line='        return a if a < 2 else None'),\n TokenInfo(type=2 (NUMBER), string='2', start=(6, 24), end=(6, 25), line='        return a if a < 2 else None'),\n TokenInfo(type=1 (NAME), string='else', start=(6, 26), end=(6, 30), line='        return a if a < 2 else None'),\n TokenInfo(type=1 (NAME), string='None', start=(6, 31), end=(6, 35), line='        return a if a < 2 else None'),\n TokenInfo(type=4 (NEWLINE), string='', start=(6, 35), end=(6, 36), line=''),\n TokenInfo(type=6 (DEDENT), string='', start=(7, 0), end=(7, 0), line=''),\n TokenInfo(type=6 (DEDENT), string='', start=(7, 0), end=(7, 0), line=''),\n TokenInfo(type=0 (ENDMARKER), string='', start=(7, 0), end=(7, 0), line='')]"
     },
     "metadata": {},
     "execution_count": 6
    }
   ],
   "source": [
    "list(tokenize(BytesIO(sample_code.encode('utf-8')).readline))"
   ]
  }
 ]
}