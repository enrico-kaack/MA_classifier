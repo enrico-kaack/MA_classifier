{
 "metadata": {
  "language_info": {
   "codemirror_mode": {
    "name": "ipython",
    "version": 3
   },
   "file_extension": ".py",
   "mimetype": "text/x-python",
   "name": "python",
   "nbconvert_exporter": "python",
   "pygments_lexer": "ipython3",
   "version": "3.8.5-final"
  },
  "orig_nbformat": 2,
  "kernelspec": {
   "name": "python37364bitownclassifiervenv97636dc04982443f83ed0d68878d1cc4",
   "display_name": "Python 3.7.3 64-bit ('own_classifier': venv)"
  }
 },
 "nbformat": 4,
 "nbformat_minor": 2,
 "cells": [
  {
   "cell_type": "code",
   "execution_count": 21,
   "metadata": {},
   "outputs": [],
   "source": [
    "from io import BytesIO\n",
    "from tokenize import tokenize, untokenize, TokenInfo\n",
    "import tokenize as tk"
   ]
  },
  {
   "cell_type": "code",
   "execution_count": 22,
   "metadata": {},
   "outputs": [],
   "source": [
    "sample_code = \"\"\"\n",
    "def myfunc():\n",
    "    a = a if a<b else c\n",
    "    if a<b:\n",
    "        return 3\n",
    "def second(a,b):\n",
    "    if a > b:\n",
    "        return None\n",
    "\"\"\""
   ]
  },
  {
   "cell_type": "code",
   "execution_count": 23,
   "metadata": {},
   "outputs": [
    {
     "output_type": "execute_result",
     "data": {
      "text/plain": "'\\ndef myfunc():\\n    a = a if a<b else c\\n    if a<b:\\n        return 3\\ndef second(a,b):\\n    if a > b:\\n        return None\\n'"
     },
     "metadata": {},
     "execution_count": 23
    }
   ],
   "source": [
    "sample_code"
   ]
  },
  {
   "cell_type": "code",
   "execution_count": 24,
   "metadata": {},
   "outputs": [],
   "source": [
    "import re\n",
    "import random\n",
    "\n",
    "lines_to_replace= [2, 5]\n",
    "replacements = [\"if a<b and b>c:\", \"if call(a,b) and b<c:\"]\n",
    "def callback(matchobj):\n",
    "    return random.choice(replacements)\n",
    "\n",
    "lines = sample_code.splitlines(keepends=False)\n",
    "for i in lines_to_replace:\n",
    "    line = lines[i]\n",
    "    new_line = re.sub(\"if .*:\", callback, line)\n",
    "    lines[i] = new_line\n",
    "sample_code = \"\\n\".join(lines)"
   ]
  },
  {
   "cell_type": "code",
   "execution_count": 25,
   "metadata": {},
   "outputs": [
    {
     "output_type": "execute_result",
     "data": {
      "text/plain": "'\\ndef myfunc():\\n    a = a if a<b else c\\n    if a<b:\\n        return 3\\ndef second(a,b):\\n    if a > b:\\n        return None'"
     },
     "metadata": {},
     "execution_count": 25
    }
   ],
   "source": [
    "sample_code"
   ]
  },
  {
   "cell_type": "code",
   "execution_count": 26,
   "metadata": {},
   "outputs": [
    {
     "output_type": "execute_result",
     "data": {
      "text/plain": "[TokenInfo(type=62 (ENCODING), string='utf-8', start=(0, 0), end=(0, 0), line=''),\n TokenInfo(type=61 (NL), string='\\n', start=(1, 0), end=(1, 1), line='\\n'),\n TokenInfo(type=1 (NAME), string='def', start=(2, 0), end=(2, 3), line='def myfunc():\\n'),\n TokenInfo(type=1 (NAME), string='myfunc', start=(2, 4), end=(2, 10), line='def myfunc():\\n'),\n TokenInfo(type=54 (OP), string='(', start=(2, 10), end=(2, 11), line='def myfunc():\\n'),\n TokenInfo(type=54 (OP), string=')', start=(2, 11), end=(2, 12), line='def myfunc():\\n'),\n TokenInfo(type=54 (OP), string=':', start=(2, 12), end=(2, 13), line='def myfunc():\\n'),\n TokenInfo(type=4 (NEWLINE), string='\\n', start=(2, 13), end=(2, 14), line='def myfunc():\\n'),\n TokenInfo(type=5 (INDENT), string='    ', start=(3, 0), end=(3, 4), line='    a = a if a<b else c\\n'),\n TokenInfo(type=1 (NAME), string='a', start=(3, 4), end=(3, 5), line='    a = a if a<b else c\\n'),\n TokenInfo(type=54 (OP), string='=', start=(3, 6), end=(3, 7), line='    a = a if a<b else c\\n'),\n TokenInfo(type=1 (NAME), string='a', start=(3, 8), end=(3, 9), line='    a = a if a<b else c\\n'),\n TokenInfo(type=1 (NAME), string='if', start=(3, 10), end=(3, 12), line='    a = a if a<b else c\\n'),\n TokenInfo(type=1 (NAME), string='a', start=(3, 13), end=(3, 14), line='    a = a if a<b else c\\n'),\n TokenInfo(type=54 (OP), string='<', start=(3, 14), end=(3, 15), line='    a = a if a<b else c\\n'),\n TokenInfo(type=1 (NAME), string='b', start=(3, 15), end=(3, 16), line='    a = a if a<b else c\\n'),\n TokenInfo(type=1 (NAME), string='else', start=(3, 17), end=(3, 21), line='    a = a if a<b else c\\n'),\n TokenInfo(type=1 (NAME), string='c', start=(3, 22), end=(3, 23), line='    a = a if a<b else c\\n'),\n TokenInfo(type=4 (NEWLINE), string='\\n', start=(3, 23), end=(3, 24), line='    a = a if a<b else c\\n'),\n TokenInfo(type=1 (NAME), string='if', start=(4, 4), end=(4, 6), line='    if a<b:\\n'),\n TokenInfo(type=1 (NAME), string='a', start=(4, 7), end=(4, 8), line='    if a<b:\\n'),\n TokenInfo(type=54 (OP), string='<', start=(4, 8), end=(4, 9), line='    if a<b:\\n'),\n TokenInfo(type=1 (NAME), string='b', start=(4, 9), end=(4, 10), line='    if a<b:\\n'),\n TokenInfo(type=54 (OP), string=':', start=(4, 10), end=(4, 11), line='    if a<b:\\n'),\n TokenInfo(type=4 (NEWLINE), string='\\n', start=(4, 11), end=(4, 12), line='    if a<b:\\n'),\n TokenInfo(type=5 (INDENT), string='        ', start=(5, 0), end=(5, 8), line='        return 3\\n'),\n TokenInfo(type=1 (NAME), string='return', start=(5, 8), end=(5, 14), line='        return 3\\n'),\n TokenInfo(type=2 (NUMBER), string='3', start=(5, 15), end=(5, 16), line='        return 3\\n'),\n TokenInfo(type=4 (NEWLINE), string='\\n', start=(5, 16), end=(5, 17), line='        return 3\\n'),\n TokenInfo(type=6 (DEDENT), string='', start=(6, 0), end=(6, 0), line='def second(a,b):\\n'),\n TokenInfo(type=6 (DEDENT), string='', start=(6, 0), end=(6, 0), line='def second(a,b):\\n'),\n TokenInfo(type=1 (NAME), string='def', start=(6, 0), end=(6, 3), line='def second(a,b):\\n'),\n TokenInfo(type=1 (NAME), string='second', start=(6, 4), end=(6, 10), line='def second(a,b):\\n'),\n TokenInfo(type=54 (OP), string='(', start=(6, 10), end=(6, 11), line='def second(a,b):\\n'),\n TokenInfo(type=1 (NAME), string='a', start=(6, 11), end=(6, 12), line='def second(a,b):\\n'),\n TokenInfo(type=54 (OP), string=',', start=(6, 12), end=(6, 13), line='def second(a,b):\\n'),\n TokenInfo(type=1 (NAME), string='b', start=(6, 13), end=(6, 14), line='def second(a,b):\\n'),\n TokenInfo(type=54 (OP), string=')', start=(6, 14), end=(6, 15), line='def second(a,b):\\n'),\n TokenInfo(type=54 (OP), string=':', start=(6, 15), end=(6, 16), line='def second(a,b):\\n'),\n TokenInfo(type=4 (NEWLINE), string='\\n', start=(6, 16), end=(6, 17), line='def second(a,b):\\n'),\n TokenInfo(type=5 (INDENT), string='    ', start=(7, 0), end=(7, 4), line='    if a > b:\\n'),\n TokenInfo(type=1 (NAME), string='if', start=(7, 4), end=(7, 6), line='    if a > b:\\n'),\n TokenInfo(type=1 (NAME), string='a', start=(7, 7), end=(7, 8), line='    if a > b:\\n'),\n TokenInfo(type=54 (OP), string='>', start=(7, 9), end=(7, 10), line='    if a > b:\\n'),\n TokenInfo(type=1 (NAME), string='b', start=(7, 11), end=(7, 12), line='    if a > b:\\n'),\n TokenInfo(type=54 (OP), string=':', start=(7, 12), end=(7, 13), line='    if a > b:\\n'),\n TokenInfo(type=4 (NEWLINE), string='\\n', start=(7, 13), end=(7, 14), line='    if a > b:\\n'),\n TokenInfo(type=5 (INDENT), string='        ', start=(8, 0), end=(8, 8), line='        return None'),\n TokenInfo(type=1 (NAME), string='return', start=(8, 8), end=(8, 14), line='        return None'),\n TokenInfo(type=1 (NAME), string='None', start=(8, 15), end=(8, 19), line='        return None'),\n TokenInfo(type=4 (NEWLINE), string='', start=(8, 19), end=(8, 20), line=''),\n TokenInfo(type=6 (DEDENT), string='', start=(9, 0), end=(9, 0), line=''),\n TokenInfo(type=6 (DEDENT), string='', start=(9, 0), end=(9, 0), line=''),\n TokenInfo(type=0 (ENDMARKER), string='', start=(9, 0), end=(9, 0), line='')]"
     },
     "metadata": {},
     "execution_count": 26
    }
   ],
   "source": [
    "list(tokenize(BytesIO(sample_code.encode('utf-8')).readline))"
   ]
  }
 ]
}