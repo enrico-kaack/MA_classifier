{
 "metadata": {
  "language_info": {
   "codemirror_mode": {
    "name": "ipython",
    "version": 3
   },
   "file_extension": ".py",
   "mimetype": "text/x-python",
   "name": "python",
   "nbconvert_exporter": "python",
   "pygments_lexer": "ipython3",
   "version": "3.8.5-final"
  },
  "orig_nbformat": 2,
  "kernelspec": {
   "name": "Python 3.8.5 64-bit ('own_classifier')",
   "display_name": "Python 3.8.5 64-bit ('own_classifier')",
   "metadata": {
    "interpreter": {
     "hash": "481a04de84f733f23568e961399ae0e7a7b604541b3a1990f5cb2b1d2205e6e7"
    }
   }
  }
 },
 "nbformat": 4,
 "nbformat_minor": 2,
 "cells": [
  {
   "cell_type": "code",
   "execution_count": 29,
   "metadata": {},
   "outputs": [],
   "source": [
    "import pandas as pd\n",
    "import json\n",
    "import os"
   ]
  },
  {
   "cell_type": "code",
   "execution_count": 30,
   "metadata": {},
   "outputs": [],
   "source": [
    "pd.set_option(\"display.max.columns\", None)\n",
    "pd.set_option(\"display.precision\", 4)\n"
   ]
  },
  {
   "cell_type": "code",
   "execution_count": 31,
   "metadata": {},
   "outputs": [
    {
     "output_type": "execute_result",
     "data": {
      "text/plain": [
       "Index(['task_id', 'test_split_percentage', 'oversampling_enabled',\n",
       "       'ratio_after_oversampling', 'undersampling_enabled',\n",
       "       'ratio_after_undersampling', 'train_dir', 'test_dir', 'problem_type',\n",
       "       'window_size', 'step_size', 'encode_type', 'max_vocab_size',\n",
       "       'embedding_vecor_length', 'epochs', 'batch_size', 'num_lstm_cells',\n",
       "       'dropout_emb_lstm', 'dropout_lstm_dense', 'test_recall',\n",
       "       'test_precision', 'test_roc', 'test_f1', 'train_recall',\n",
       "       'train_precision', 'train_roc', 'train_f1', 'cm', 'cm_normalized',\n",
       "       'n_trees_in_forest', 'max_features', 'class_weight', 'n_estimators',\n",
       "       'learning_rate', 'subsample'],\n",
       "      dtype='object')"
      ]
     },
     "metadata": {},
     "execution_count": 31
    }
   ],
   "source": [
    "frames = []\n",
    "for root, dirs, files in os.walk(\"results/FINAL/test\"):\n",
    "   for name in files:\n",
    "      if name.endswith(\".json\"):\n",
    "          frame = pd.read_json(os.path.join(root, name), orient=\"record\", lines=True)\n",
    "          frames.append(frame)\n",
    "results = pd.concat(frames)\n",
    "results.columns"
   ]
  },
  {
   "cell_type": "code",
   "execution_count": 35,
   "metadata": {},
   "outputs": [],
   "source": [
    "def convert_cm(cm):\n",
    "    #TN, FP, FN, TP\n",
    "    return cm[0][0], cm[0][1], cm[1][0], cm[1][1]\n",
    "\n",
    "def calc_fp_rate(cm):\n",
    "    tn, fp, fn, tp = convert_cm(cm)\n",
    "    return fp / (fp + tn)"
   ]
  },
  {
   "cell_type": "code",
   "execution_count": 36,
   "metadata": {},
   "outputs": [
    {
     "output_type": "execute_result",
     "data": {
      "text/plain": [
       "0.0031420587606882364"
      ]
     },
     "metadata": {},
     "execution_count": 36
    }
   ],
   "source": [
    "r = results[(results[\"problem_type\"] == \"RETURN_NULL\")  & (results[\"max_vocab_size\"] == 100000)]\n",
    "c1 = r[(r[\"epochs\"] == 3) & (r[\"batch_size\"] == 256) & (r[\"undersampling_enabled\"] == True) & (r[\"num_lstm_cells\"] == 10)][\"cm\"][0]\n",
    "calc_fp_rate(c1)"
   ]
  },
  {
   "cell_type": "code",
   "execution_count": 39,
   "metadata": {},
   "outputs": [
    {
     "output_type": "execute_result",
     "data": {
      "text/plain": [
       "3.142058760688236e-05"
      ]
     },
     "metadata": {},
     "execution_count": 39
    }
   ],
   "source": [
    "c2 = r[(r[\"epochs\"] == 3) & (r[\"batch_size\"] == 256) & (r[\"undersampling_enabled\"] == False) & (r[\"oversampling_enabled\"] == False) & (r[\"num_lstm_cells\"] == 10) & (r[\"embedding_vecor_length\"] == 32)][\"cm\"][0]\n",
    "calc_fp_rate(c2)"
   ]
  }
 ]
}