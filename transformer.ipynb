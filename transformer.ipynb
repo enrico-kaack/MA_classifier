{
 "metadata": {
  "language_info": {
   "codemirror_mode": {
    "name": "ipython",
    "version": 3
   },
   "file_extension": ".py",
   "mimetype": "text/x-python",
   "name": "python",
   "nbconvert_exporter": "python",
   "pygments_lexer": "ipython3",
   "version": "3.8.5-final"
  },
  "orig_nbformat": 2,
  "kernelspec": {
   "name": "python_defaultSpec_1600695014454",
   "display_name": "Python 3.8.5 64-bit ('own_classifier': venv)"
  }
 },
 "nbformat": 4,
 "nbformat_minor": 2,
 "cells": [
  {
   "cell_type": "code",
   "execution_count": 1,
   "metadata": {
    "tags": []
   },
   "outputs": [
    {
     "output_type": "stream",
     "name": "stderr",
     "text": "Loading postgres module without psycopg2 installed. Will crash at runtime if postgres functionality is used.\nWelcome to d6tflow!\n\u001b[34m\u001b[1mwandb\u001b[0m: \u001b[33mWARNING\u001b[0m W&B installed but not logged in.  Run `wandb login` or set the WANDB_API_KEY env variable.\n"
    }
   ],
   "source": [
    "from tasks.preprocessing import ProblemType\n",
    "from tasks.transformer import TaskEvaluateTransformer\n",
    "import d6tflow"
   ]
  },
  {
   "cell_type": "code",
   "execution_count": 2,
   "metadata": {},
   "outputs": [],
   "source": [
    "t = TaskEvaluateTransformer(problem_type=ProblemType.RETURN_NONE, input_src_path=\"raw_data\", oversampling_enabled=False)\n",
    "#t.invalidate(confirm=False)"
   ]
  },
  {
   "cell_type": "code",
   "execution_count": 3,
   "metadata": {
    "tags": []
   },
   "outputs": [
    {
     "output_type": "stream",
     "name": "stderr",
     "text": "INFO: Informed scheduler that task   TaskPrepareXY_raw_data_RETURN_NONE_3_bc1ddcd6a5   has status   PENDING\nINFO: Informed scheduler that task   TaskRuleProcessor_raw_data_94d91431be   has status   DONE\nINFO: Done scheduling tasks\nINFO: Running Worker with 1 processes\nINFO: [pid 13665] Worker Worker(salt=384679933, workers=1, host=C02YV751LVDQ, username=d064518, pid=13665) running   TaskPrepareXY(input_src_path=raw_data, problem_type=RETURN_NONE, window_size=20, step_size=3)\n  0%|          | 0/6623 [00:00<?, ?it/s]###Running TaskPrepareXY\n 17%|█▋        | 1123/6623 [00:10<00:57, 95.21it/s]ERROR:root:FAILED parsing for content with error <class 'KeyboardInterrupt'>: raw_data/ansible/ansible/devel/ansible-devel/lib/ansible/vars/manager.py\n 27%|██▋       | 1786/6623 [00:24<12:58,  6.21it/s]"
    }
   ],
   "source": [
    "d6tflow.run(t)"
   ]
  }
 ]
}