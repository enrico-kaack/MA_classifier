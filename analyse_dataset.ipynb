{
 "metadata": {
  "language_info": {
   "codemirror_mode": {
    "name": "ipython",
    "version": 3
   },
   "file_extension": ".py",
   "mimetype": "text/x-python",
   "name": "python",
   "nbconvert_exporter": "python",
   "pygments_lexer": "ipython3",
   "version": "3.8.5-final"
  },
  "orig_nbformat": 2,
  "kernelspec": {
   "name": "Python 3.8.5 64-bit ('own_classifier')",
   "display_name": "Python 3.8.5 64-bit ('own_classifier')",
   "metadata": {
    "interpreter": {
     "hash": "481a04de84f733f23568e961399ae0e7a7b604541b3a1990f5cb2b1d2205e6e7"
    }
   }
  }
 },
 "nbformat": 4,
 "nbformat_minor": 2,
 "cells": [
  {
   "cell_type": "code",
   "execution_count": 1,
   "metadata": {
    "tags": []
   },
   "outputs": [
    {
     "output_type": "stream",
     "name": "stderr",
     "text": "Loading postgres module without psycopg2 installed. Will crash at runtime if postgres functionality is used.\nWelcome to d6tflow!\n"
    }
   ],
   "source": [
    "from tasks.preprocessing import TaskTrainTestSplit, ProblemType, TaskPrepareXY\n",
    "import d6tflow\n",
    "from collections import Counter\n",
    "\n",
    "d6tflow.settings.log_level = 'WARNING' # 'DEBUG', 'INFO', 'WARNING', 'ERROR', 'CRITICAL'"
   ]
  },
  {
   "cell_type": "code",
   "execution_count": 2,
   "metadata": {
    "tags": []
   },
   "outputs": [],
   "source": [
    "def print_class_distribution(problem_type, input_path):\n",
    "    t = TaskTrainTestSplit(input_src_path=input_path, problem_type=problem_type, oversampling_enabled=False, undersampling_enabled=False)\n",
    "    d6tflow.run(t)\n",
    "    \n",
    "    y_train = t.output()[\"y_train\"].load()\n",
    "    y_train_dev = t.output()[\"y_train_dev\"].load()\n",
    "    y_test = t.output()[\"y_test\"].load()\n",
    "    print(\"\\n\",problem_type)\n",
    "    print (\"Statistics for Train, train_dev and test\")\n",
    "    for data in [y_train, y_train_dev, y_test]:\n",
    "        c = Counter()\n",
    "        c.update(data)\n",
    "        label_0 = c.most_common()[0][1]\n",
    "        label_1 = c.most_common()[1][1]\n",
    "        print(f\"Label 0: {label_0 / len(data) * 100}%\")\n",
    "        print(f\"Label 1: {label_1 / len(data) * 100}%\\n\")"
   ]
  },
  {
   "cell_type": "code",
   "execution_count": 3,
   "metadata": {},
   "outputs": [],
   "source": [
    "def print_dataset_class_distribution(problem_type, src_path):\n",
    "    t = TaskPrepareXY(input_src_path=src_path, problem_type=problem_type)\n",
    "    d6tflow.run(t)\n",
    "    _, y = t.outputLoad()\n",
    "    c = Counter()\n",
    "    c.update(y)\n",
    "    label_0 = c.most_common()[0][1]\n",
    "    label_1 = c.most_common()[1][1]\n",
    "\n",
    "    print(problem_type)\n",
    "    print(f\"Label 0: {label_0 / len(y) * 100}%\")\n",
    "    print(f\"Label 1: {label_1 / len(y) * 100}%\\n\")\n"
   ]
  },
  {
   "cell_type": "code",
   "execution_count": 4,
   "metadata": {
    "tags": []
   },
   "outputs": [
    {
     "output_type": "stream",
     "name": "stderr",
     "text": "  0%|          | 0/13330 [00:00&lt;?, ?it/s]###Running TaskPrepareXY\n100%|██████████| 13330/13330 [02:12&lt;00:00, 100.71it/s]\n  0%|          | 0/13330 [00:00&lt;?, ?it/s]ProblemType.RETURN_NONE\nLabel 0: 99.79033716748927%\nLabel 1: 0.20966283251072806%\n\n###Running TaskPrepareXY\n100%|██████████| 13330/13330 [02:38&lt;00:00, 83.99it/s] \n  0%|          | 0/13330 [00:00&lt;?, ?it/s]ProblemType.CONDITION_COMPARISON_SIMPLE\nLabel 0: 97.34223725332195%\nLabel 1: 2.657762746678049%\n\n###Running TaskPrepareXY\n100%|██████████| 13330/13330 [03:09&lt;00:00, 70.27it/s] \nProblemType.CONDITION_COMPARISON\nLabel 0: 95.13183871213408%\nLabel 1: 4.8681612878659175%\n\n"
    }
   ],
   "source": [
    "print_dataset_class_distribution(ProblemType.RETURN_NONE, \"final_dataset\")\n",
    "print_dataset_class_distribution(ProblemType.CONDITION_COMPARISON_SIMPLE, \"final_dataset\")\n",
    "print_dataset_class_distribution(ProblemType.CONDITION_COMPARISON, \"final_dataset\")"
   ]
  },
  {
   "cell_type": "code",
   "execution_count": 5,
   "metadata": {
    "tags": []
   },
   "outputs": [
    {
     "output_type": "stream",
     "name": "stderr",
     "text": "  1%|▏         | 20/1481 [00:00&lt;00:07, 186.40it/s]###Running TaskPrepareXY\n100%|██████████| 1481/1481 [00:12&lt;00:00, 120.70it/s]\n  1%|          | 15/1481 [00:00&lt;00:10, 144.36it/s]ProblemType.RETURN_NONE\nLabel 0: 99.73384475252158%\nLabel 1: 0.2661552474784193%\n\n###Running TaskPrepareXY\n100%|██████████| 1481/1481 [00:16&lt;00:00, 88.36it/s] \n  1%|          | 17/1481 [00:00&lt;00:08, 167.15it/s]ProblemType.CONDITION_COMPARISON_SIMPLE\nLabel 0: 97.48990949885933%\nLabel 1: 2.5100905011406653%\n\n###Running TaskPrepareXY\n100%|██████████| 1481/1481 [00:17&lt;00:00, 83.26it/s]\nProblemType.CONDITION_COMPARISON\nLabel 0: 95.21421945899871%\nLabel 1: 4.785780541001278%\n\n"
    }
   ],
   "source": [
    "print_dataset_class_distribution(ProblemType.RETURN_NONE, \"final_test\")\n",
    "print_dataset_class_distribution(ProblemType.CONDITION_COMPARISON_SIMPLE, \"final_test\")\n",
    "print_dataset_class_distribution(ProblemType.CONDITION_COMPARISON, \"final_test\")"
   ]
  },
  {
   "cell_type": "code",
   "execution_count": 6,
   "metadata": {
    "tags": []
   },
   "outputs": [
    {
     "output_type": "stream",
     "name": "stderr",
     "text": "  0%|          | 12/3702 [00:00&lt;00:30, 119.15it/s]###Running TaskPrepareXY\n100%|██████████| 3702/3702 [05:01&lt;00:00, 12.27it/s]\n  0%|          | 13/3702 [00:00&lt;00:39, 94.46it/s]ProblemType.RETURN_NONE\nLabel 0: 99.78161427227163%\nLabel 1: 0.2183857277283813%\n\n###Running TaskPrepareXY\n100%|██████████| 3702/3702 [01:02&lt;00:00, 59.21it/s]\n  0%|          | 14/3702 [00:00&lt;00:26, 138.50it/s]ProblemType.CONDITION_COMPARISON_SIMPLE\nLabel 0: 97.23273097382521%\nLabel 1: 2.767269026174793%\n\n###Running TaskPrepareXY\n100%|██████████| 3702/3702 [00:41&lt;00:00, 88.61it/s]\nProblemType.CONDITION_COMPARISON\nLabel 0: 94.89631862961612%\nLabel 1: 5.103681370383884%\n\n"
    }
   ],
   "source": [
    "print_dataset_class_distribution(ProblemType.RETURN_NONE, \"final_validation\")\n",
    "print_dataset_class_distribution(ProblemType.CONDITION_COMPARISON_SIMPLE, \"final_validation\")\n",
    "print_dataset_class_distribution(ProblemType.CONDITION_COMPARISON, \"final_validation\")"
   ]
  }
 ]
}