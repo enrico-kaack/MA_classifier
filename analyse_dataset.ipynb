{
 "metadata": {
  "language_info": {
   "codemirror_mode": {
    "name": "ipython",
    "version": 3
   },
   "file_extension": ".py",
   "mimetype": "text/x-python",
   "name": "python",
   "nbconvert_exporter": "python",
   "pygments_lexer": "ipython3",
   "version": "3.8.5-final"
  },
  "orig_nbformat": 2,
  "kernelspec": {
   "name": "python_defaultSpec_1600957356647",
   "display_name": "Python 3.8.5 64-bit ('own_classifier': venv)"
  }
 },
 "nbformat": 4,
 "nbformat_minor": 2,
 "cells": [
  {
   "cell_type": "code",
   "execution_count": 1,
   "metadata": {
    "tags": []
   },
   "outputs": [
    {
     "output_type": "stream",
     "name": "stderr",
     "text": "Loading postgres module without psycopg2 installed. Will crash at runtime if postgres functionality is used.\nWelcome to d6tflow!\n"
    }
   ],
   "source": [
    "from tasks.preprocessing import TaskTrainTestSplit, ProblemType, TaskPrepareXY\n",
    "import d6tflow\n",
    "from collections import Counter\n",
    "\n",
    "d6tflow.settings.log_level = 'WARNING' # 'DEBUG', 'INFO', 'WARNING', 'ERROR', 'CRITICAL'"
   ]
  },
  {
   "cell_type": "code",
   "execution_count": 2,
   "metadata": {
    "tags": []
   },
   "outputs": [],
   "source": [
    "def print_class_distribution(problem_type, input_path):\n",
    "    t = TaskTrainTestSplit(input_src_path=input_path, problem_type=problem_type, oversampling_enabled=False, undersampling_enabled=False)\n",
    "    d6tflow.run(t)\n",
    "    \n",
    "    y_train = t.output()[\"y_train\"].load()\n",
    "    y_train_dev = t.output()[\"y_train_dev\"].load()\n",
    "    y_test = t.output()[\"y_test\"].load()\n",
    "    print(\"\\n\",problem_type)\n",
    "    print (\"Statistics for Train, train_dev and test\")\n",
    "    for data in [y_train, y_train_dev, y_test]:\n",
    "        c = Counter()\n",
    "        c.update(data)\n",
    "        label_0 = c.most_common()[0][1]\n",
    "        label_1 = c.most_common()[1][1]\n",
    "        print(f\"Label 0: {label_0 / len(data) * 100}%\")\n",
    "        print(f\"Label 1: {label_1 / len(data) * 100}%\\n\")"
   ]
  },
  {
   "cell_type": "code",
   "execution_count": 3,
   "metadata": {
    "tags": []
   },
   "outputs": [
    {
     "output_type": "stream",
     "name": "stdout",
     "text": "\n ProblemType.RETURN_NONE\nStatistics for Train, train_dev and test\nLabel 0: 99.7855871515693%\nLabel 1: 0.21441284843069855%\n\nLabel 0: 99.78755111879357%\nLabel 1: 0.21244888120643102%\n\nLabel 0: 99.78333533439589%\nLabel 1: 0.21666466560411773%\n\n\n ProblemType.CONDITION_COMPARISON_SIMPLE\nStatistics for Train, train_dev and test\nLabel 0: 97.32605508004417%\nLabel 1: 2.6739449199558267%\n\nLabel 0: 97.30596206459668%\nLabel 1: 2.694037935403316%\n\nLabel 0: 97.30963688727999%\nLabel 1: 2.690363112720008%\n\n\n ProblemType.CONDITION_COMPARISON\nStatistics for Train, train_dev and test\nLabel 0: 95.10341073022659%\nLabel 1: 4.896589269773418%\n\nLabel 0: 95.12760680642955%\nLabel 1: 4.872393193570443%\n\nLabel 0: 95.13164394773285%\nLabel 1: 4.868356052267143%\n\n"
    }
   ],
   "source": [
    "print_class_distribution(ProblemType.RETURN_NONE, \"second_large_dataset\")\n",
    "print_class_distribution(ProblemType.CONDITION_COMPARISON_SIMPLE, \"second_large_dataset\")\n",
    "print_class_distribution(ProblemType.CONDITION_COMPARISON, \"second_large_dataset\")"
   ]
  },
  {
   "cell_type": "code",
   "execution_count": 4,
   "metadata": {},
   "outputs": [],
   "source": [
    "def print_dataset_class_distribution(problem_type, src_path):\n",
    "    t = TaskPrepareXY(input_src_path=src_path, problem_type=problem_type)\n",
    "    d6tflow.run(t)\n",
    "    _, y = t.outputLoad()\n",
    "    c = Counter()\n",
    "    c.update(y)\n",
    "    label_0 = c.most_common()[0][1]\n",
    "    label_1 = c.most_common()[1][1]\n",
    "\n",
    "    print(problem_type)\n",
    "    print(f\"Label 0: {label_0 / len(y) * 100}%\")\n",
    "    print(f\"Label 1: {label_1 / len(y) * 100}%\\n\")\n"
   ]
  },
  {
   "cell_type": "code",
   "execution_count": 5,
   "metadata": {
    "tags": []
   },
   "outputs": [
    {
     "output_type": "stream",
     "name": "stdout",
     "text": "ProblemType.RETURN_NONE\nLabel 0: 99.78533318449084%\nLabel 1: 0.21466681550916875%\n\nProblemType.CONDITION_COMPARISON_SIMPLE\nLabel 0: 97.3207621379038%\nLabel 1: 2.6792378620962043%\n\nProblemType.CONDITION_COMPARISON\nLabel 0: 95.1114769850448%\nLabel 1: 4.888523014955188%\n\n"
    }
   ],
   "source": [
    "print_dataset_class_distribution(ProblemType.RETURN_NONE, \"second_large_dataset\")\n",
    "print_dataset_class_distribution(ProblemType.CONDITION_COMPARISON_SIMPLE, \"second_large_dataset\")\n",
    "print_dataset_class_distribution(ProblemType.CONDITION_COMPARISON, \"second_large_dataset\")"
   ]
  },
  {
   "cell_type": "code",
   "execution_count": 6,
   "metadata": {
    "tags": []
   },
   "outputs": [
    {
     "output_type": "stream",
     "name": "stdout",
     "text": "ProblemType.RETURN_NONE\nLabel 0: 99.78163439403347%\nLabel 1: 0.21836560596651672%\n\nProblemType.CONDITION_COMPARISON_SIMPLE\nLabel 0: 97.38235699993099%\nLabel 1: 2.6176430000689987%\n\nProblemType.CONDITION_COMPARISON\nLabel 0: 95.00942461250887%\nLabel 1: 4.990575387491139%\n\n"
    }
   ],
   "source": [
    "print_dataset_class_distribution(ProblemType.RETURN_NONE, \"validation\")\n",
    "print_dataset_class_distribution(ProblemType.CONDITION_COMPARISON_SIMPLE, \"validation\")\n",
    "print_dataset_class_distribution(ProblemType.CONDITION_COMPARISON, \"validation\")"
   ]
  },
  {
   "cell_type": "code",
   "execution_count": 7,
   "metadata": {
    "tags": []
   },
   "outputs": [
    {
     "output_type": "stream",
     "name": "stdout",
     "text": "ProblemType.RETURN_NONE\nLabel 0: 99.78535630062055%\nLabel 1: 0.21464369937946182%\n\nProblemType.CONDITION_COMPARISON_SIMPLE\nLabel 0: 97.35525733390531%\nLabel 1: 2.6447426660946767%\n\nProblemType.CONDITION_COMPARISON\nLabel 0: 95.13910212144158%\nLabel 1: 4.860897878558415%\n\n"
    }
   ],
   "source": [
    "print_dataset_class_distribution(ProblemType.RETURN_NONE, \"final_dataset\")\n",
    "print_dataset_class_distribution(ProblemType.CONDITION_COMPARISON_SIMPLE, \"final_dataset\")\n",
    "print_dataset_class_distribution(ProblemType.CONDITION_COMPARISON, \"final_dataset\")"
   ]
  },
  {
   "cell_type": "code",
   "execution_count": 8,
   "metadata": {
    "tags": []
   },
   "outputs": [
    {
     "output_type": "stream",
     "name": "stdout",
     "text": "ProblemType.RETURN_NONE\nLabel 0: 99.78161427227163%\nLabel 1: 0.2183857277283813%\n\nProblemType.CONDITION_COMPARISON_SIMPLE\nLabel 0: 97.23273097382521%\nLabel 1: 2.767269026174793%\n\nProblemType.CONDITION_COMPARISON\nLabel 0: 94.89631862961612%\nLabel 1: 5.103681370383884%\n\n"
    }
   ],
   "source": [
    "print_dataset_class_distribution(ProblemType.RETURN_NONE, \"final_validation\")\n",
    "print_dataset_class_distribution(ProblemType.CONDITION_COMPARISON_SIMPLE, \"final_validation\")\n",
    "print_dataset_class_distribution(ProblemType.CONDITION_COMPARISON, \"final_validation\")"
   ]
  }
 ]
}