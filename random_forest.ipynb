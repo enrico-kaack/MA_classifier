{
 "cells": [
  {
   "cell_type": "code",
   "execution_count": 48,
   "metadata": {},
   "outputs": [],
   "source": [
    "from input.data_read_write import DataReaderAndWriter"
   ]
  },
  {
   "cell_type": "code",
   "execution_count": 49,
   "metadata": {},
   "outputs": [],
   "source": [
    "data_holder = DataReaderAndWriter()\n",
    "data_holder.parse_from_pickle_file(\"with_problems.pkl\")\n",
    "data = data_holder.data"
   ]
  },
  {
   "cell_type": "markdown",
   "metadata": {},
   "source": [
    "# Create vocab of tokenizer values"
   ]
  },
  {
   "cell_type": "code",
   "execution_count": 50,
   "metadata": {},
   "outputs": [],
   "source": [
    "from io import BytesIO\n",
    "from tokenize import tokenize\n",
    "from collections import Counter\n",
    "from tqdm.autonotebook import tqdm"
   ]
  },
  {
   "cell_type": "code",
   "execution_count": 51,
   "metadata": {
    "tags": []
   },
   "outputs": [
    {
     "output_type": "stream",
     "name": "stderr",
     "text": "100%|██████████| 6623/6623 [00:38<00:00, 172.05it/s]\n"
    },
    {
     "output_type": "execute_result",
     "data": {
      "text/plain": "[('\\n', 1164200),\n (',', 642672),\n ('(', 626956),\n (')', 626956),\n ('.', 600472),\n ('=', 390064),\n (':', 232380),\n ('self', 197177),\n ('', 188956),\n ('[', 136408),\n (']', 136408),\n ('def', 69717),\n ('        ', 66507),\n ('1', 53460),\n ('            ', 51635),\n ('if', 48677),\n ('0', 43515),\n ('import', 38006),\n ('torch', 37223),\n ('return', 36465)]"
     },
     "metadata": {},
     "execution_count": 51
    }
   ],
   "source": [
    "c = Counter()\n",
    "\n",
    "for d in tqdm(data):\n",
    "    src_code = d['src']\n",
    "    tokens= tokenize(BytesIO(src_code.encode('utf-8')).readline)\n",
    "    for _, tokval, _, _, _ in tokens:\n",
    "        c.update([tokval])\n",
    "c.most_common(20)\n"
   ]
  },
  {
   "cell_type": "code",
   "execution_count": 52,
   "metadata": {},
   "outputs": [],
   "source": [
    "vocab_dict= {}\n",
    "max_vocab_size = 1000\n",
    "for i, vocab in enumerate(c.most_common(max_vocab_size)):\n",
    "    vocab_dict[i] = vocab\n",
    "\n",
    "vocab_holder = DataReaderAndWriter()\n",
    "vocab_holder.data = vocab_dict\n",
    "vocab_holder.dump_to_file(f\"vocab_{max_vocab_size}.pkl\")"
   ]
  },
  {
   "cell_type": "markdown",
   "metadata": {},
   "source": [
    "# Preprocess the data\n",
    "\n",
    "Approach: use a tokenizer, use type and value embedded."
   ]
  },
  {
   "cell_type": "code",
   "execution_count": 53,
   "metadata": {},
   "outputs": [],
   "source": [
    "def token_type_to_number(token_type):\n",
    "    return token_type    "
   ]
  },
  {
   "cell_type": "code",
   "execution_count": 54,
   "metadata": {},
   "outputs": [],
   "source": [
    "vocab = vocab_holder = DataReaderAndWriter()\n",
    "vocab_holder.parse_from_pickle_file(\"vocab_1000.pkl\")\n",
    "vocab = vocab_holder.data "
   ]
  },
  {
   "cell_type": "markdown",
   "metadata": {},
   "source": [
    "## Turn original data structure into \n",
    "\\[token_type, token_value, ...\\]\\[0|1\\]\n",
    "use a sliding window to process all file from beginning to end"
   ]
  },
  {
   "cell_type": "code",
   "execution_count": 55,
   "metadata": {},
   "outputs": [],
   "source": [
    "def code_to_windowed_data(src_code, problem_line_numbers):\n",
    "    pass"
   ]
  },
  {
   "cell_type": "code",
   "execution_count": 68,
   "metadata": {
    "tags": []
   },
   "outputs": [
    {
     "output_type": "stream",
     "name": "stderr",
     "text": "100%|██████████| 1/1 [00:00<00:00, 445.40it/s]\n100%|██████████| 1/1 [00:00<00:00, 477.82it/s]\n\n\n"
    },
    {
     "output_type": "execute_result",
     "data": {
      "text/plain": "[{'file_path': 'test_file/return_none_test.py',\n  'src': 'import os\\nimport sys\\n\\ndef hello0(bla, asd, ds):\\n    return bla\\n\\n\\n\\ndef hello(bla, asd, ds):\\n    return None\\n\\ndef hello2(bla, asd, ds):\\n    return asd\\n\\ndef hello3(bla, asd, ds):\\n    return ds\\n\\n',\n  'problems': [{'type': 'RETURN_NULL', 'line_number': 10, 'col_offset': 4}]}]"
     },
     "metadata": {},
     "execution_count": 68
    }
   ],
   "source": [
    "from rules.rule_processor import run_rules_on_dataset\n",
    "\n",
    "#load small dataset\n",
    "test_data_holder = DataReaderAndWriter()\n",
    "test_data_holder.load_source_file_from(\"test_file/\")\n",
    "\n",
    "\n",
    "processed_data = run_rules_on_dataset(test_data_holder.data)\n",
    "\n",
    "data = run_rules_on_dataset(data)\n",
    "data"
   ]
  },
  {
   "cell_type": "code",
   "execution_count": 63,
   "metadata": {
    "tags": []
   },
   "outputs": [
    {
     "output_type": "error",
     "ename": "KeyError",
     "evalue": "'problems'",
     "traceback": [
      "\u001b[0;31m---------------------------------------------------------------------------\u001b[0m",
      "\u001b[0;31mKeyError\u001b[0m                                  Traceback (most recent call last)",
      "\u001b[0;32m<ipython-input-63-a58f5b82a84d>\u001b[0m in \u001b[0;36m<module>\u001b[0;34m\u001b[0m\n\u001b[1;32m      1\u001b[0m \u001b[0;32mfor\u001b[0m \u001b[0md\u001b[0m \u001b[0;32min\u001b[0m \u001b[0mdata\u001b[0m\u001b[0;34m:\u001b[0m\u001b[0;34m\u001b[0m\u001b[0;34m\u001b[0m\u001b[0m\n\u001b[0;32m----> 2\u001b[0;31m     \u001b[0mproblem_line_numbers\u001b[0m \u001b[0;34m=\u001b[0m \u001b[0;34m[\u001b[0m\u001b[0ml\u001b[0m\u001b[0;34m[\u001b[0m\u001b[0;34m'line_number'\u001b[0m\u001b[0;34m]\u001b[0m \u001b[0;32mfor\u001b[0m \u001b[0ml\u001b[0m \u001b[0;32min\u001b[0m \u001b[0md\u001b[0m\u001b[0;34m[\u001b[0m\u001b[0;34m'problems'\u001b[0m\u001b[0;34m]\u001b[0m \u001b[0;32mif\u001b[0m \u001b[0ml\u001b[0m\u001b[0;34m[\u001b[0m\u001b[0;34m'type'\u001b[0m\u001b[0;34m]\u001b[0m \u001b[0;34m==\u001b[0m \u001b[0;34m\"RETURN_NULL\"\u001b[0m\u001b[0;34m]\u001b[0m\u001b[0;34m\u001b[0m\u001b[0;34m\u001b[0m\u001b[0m\n\u001b[0m\u001b[1;32m      3\u001b[0m \u001b[0;34m\u001b[0m\u001b[0m\n",
      "\u001b[0;31mKeyError\u001b[0m: 'problems'"
     ]
    }
   ],
   "source": [
    "for d in data:\n",
    "    problem_line_numbers = [l['line_number'] for l in d['problems'] if l['type'] == \"RETURN_NULL\"]\n",
    "    "
   ]
  }
 ],
 "metadata": {
  "language_info": {
   "codemirror_mode": {
    "name": "ipython",
    "version": 3
   },
   "file_extension": ".py",
   "mimetype": "text/x-python",
   "name": "python",
   "nbconvert_exporter": "python",
   "pygments_lexer": "ipython3",
   "version": "3.8.5-final"
  },
  "orig_nbformat": 2,
  "kernelspec": {
   "name": "python38564bitownclassifiervenv09c541dae239465b81df0e9aaa9c8025",
   "display_name": "Python 3.8.5 64-bit ('own_classifier': venv)"
  }
 },
 "nbformat": 4,
 "nbformat_minor": 2
}