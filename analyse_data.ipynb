{
 "metadata": {
  "language_info": {
   "codemirror_mode": {
    "name": "ipython",
    "version": 3
   },
   "file_extension": ".py",
   "mimetype": "text/x-python",
   "name": "python",
   "nbconvert_exporter": "python",
   "pygments_lexer": "ipython3",
   "version": "3.8.5-final"
  },
  "orig_nbformat": 2,
  "kernelspec": {
   "name": "python37364bitownclassifiervenv97636dc04982443f83ed0d68878d1cc4",
   "display_name": "Python 3.7.3 64-bit ('own_classifier': venv)"
  }
 },
 "nbformat": 4,
 "nbformat_minor": 2,
 "cells": [
  {
   "cell_type": "code",
   "execution_count": 6,
   "metadata": {
    "tags": []
   },
   "outputs": [],
   "source": [
    "from tasks.preprocessing import TaskRuleProcessor, ProblemType, TaskSourceFileToDataStructure\n",
    "from input.input_data_analysis import analyse_parsed_data, analyse_problems_per_project, analyse_files_per_project, analyse_total_file_size\n",
    "import d6tflow\n",
    "d6tflow.settings.log_level = 'WARNING' # 'DEBUG', 'INFO', 'WARNING', 'ERROR', 'CRITICAL'"
   ]
  },
  {
   "cell_type": "code",
   "execution_count": 7,
   "metadata": {
    "tags": []
   },
   "outputs": [
    {
     "output_type": "stream",
     "name": "stdout",
     "text": "Lines of Code: 1372290\nTotal Files: 6623\nLOCs per file 207.20066435150235\nLOCs containing probem RETURN_NULL: 0.00047876177775834554\nProblems per file for RETURN_NULL: 0.09919975841763551\nLOCs containing probem CONDITION_COMPARISON_SIMPLE: 0.015085003898592863\nProblems per file for CONDITION_COMPARISON_SIMPLE: 3.125622829533444\nLOCs containing probem CONDITION_COMPARISON: 0.0288729058726654\nProblems per file for CONDITION_COMPARISON: 5.982485278574664\n\\Total File Size\nTotal File Size 49.79906940460205\n\nProblems per project\n raw_data/keras-team: {'CONDITION_COMPARISON': 375, 'CONDITION_COMPARISON_SIMPLE': 300, 'RETURN_NULL': 4}\n raw_data/ansible: {'CONDITION_COMPARISON': 14256, 'CONDITION_COMPARISON_SIMPLE': 6642, 'RETURN_NULL': 232}\n raw_data/jakubroztocil: {'CONDITION_COMPARISON': 203, 'CONDITION_COMPARISON_SIMPLE': 62}\n raw_data/pallets: {'CONDITION_COMPARISON': 345, 'CONDITION_COMPARISON_SIMPLE': 214, 'RETURN_NULL': 7}\n raw_data/pytorch: {'CONDITION_COMPARISON': 11183, 'CONDITION_COMPARISON_SIMPLE': 6581, 'RETURN_NULL': 140}\n raw_data/django: {'CONDITION_COMPARISON': 7397, 'CONDITION_COMPARISON_SIMPLE': 3254, 'RETURN_NULL': 233}\n raw_data/scikit-learn: {'CONDITION_COMPARISON': 5863, 'CONDITION_COMPARISON_SIMPLE': 3648, 'RETURN_NULL': 41}\n\nFiles per project\n raw_data/keras-team: 172, 0.025970104182394683\n raw_data/ansible: 1399, 0.21123357994866374\n raw_data/jakubroztocil: 60, 0.009059338668277215\n raw_data/pallets: 71, 0.010720217424128039\n raw_data/pytorch: 1443, 0.21787709497206703\n raw_data/django: 2673, 0.40359353767174994\n raw_data/scikit-learn: 805, 0.12154612713271931\n"
    }
   ],
   "source": [
    "d6tflow.run(TaskRuleProcessor(input_src_path=\"raw_data\"))\n",
    "problems = TaskRuleProcessor(input_src_path=\"raw_data\").outputLoad()\n",
    "analyse_parsed_data(problems)\n",
    "print(\"\\Total File Size\")\n",
    "_ = analyse_total_file_size(problems)\n",
    "print(\"\\nProblems per project\")\n",
    "analyse_problems_per_project(problems, 2)\n",
    "print(\"\\nFiles per project\")\n",
    "_=analyse_files_per_project(problems, 2)\n"
   ]
  },
  {
   "cell_type": "markdown",
   "metadata": {},
   "source": [
    "## Extract a random validation set"
   ]
  },
  {
   "cell_type": "markdown",
   "metadata": {},
   "source": [
    "import random\n",
    "import os"
   ]
  },
  {
   "cell_type": "markdown",
   "metadata": {},
   "source": [
    "all_files = []\n",
    "for dir_path, dir_names, file_names in os.walk(\"second_large_dataset\"):\n",
    "            for f in file_names:\n",
    "                _, file_extension = os.path.splitext(f)\n",
    "                if file_extension == \".py\":\n",
    "                    file_path = os.path.join(dir_path, f)\n",
    "                    all_files.append(file_path)\n",
    "len(all_files)"
   ]
  },
  {
   "cell_type": "markdown",
   "metadata": {},
   "source": [
    "validation_ratio = 0.2\n",
    "\n",
    "sample = random.sample(all_files, k=int(validation_ratio*len(all_files)))\n",
    "len(all_files), len(sample)"
   ]
  },
  {
   "cell_type": "markdown",
   "metadata": {
    "tags": []
   },
   "source": [
    "import os\n",
    "import shutil\n",
    "for f in sample:\n",
    "    target_path = os.path.join(\"validation/extracted\", f)\n",
    "    os.makedirs(os.path.dirname(target_path), exist_ok=True)\n",
    "    shutil.move(f, target_path)"
   ]
  },
  {
   "cell_type": "markdown",
   "metadata": {},
   "source": [
    "with open(\"input/validation_extracted.txt\", \"w\") as outfile:\n",
    "    outfile.writelines(\"\\n\".join(sample))"
   ]
  },
  {
   "cell_type": "markdown",
   "metadata": {},
   "source": [
    "## Run analysis on remaining dataset"
   ]
  },
  {
   "cell_type": "code",
   "execution_count": 8,
   "metadata": {
    "tags": []
   },
   "outputs": [
    {
     "output_type": "stream",
     "name": "stdout",
     "text": "Lines of Code: 2789853\nTotal Files: 14811\nLOCs per file 188.36358112213895\nLOCs containing probem RETURN_NULL: 0.0007530862737212319\nProblems per file for RETURN_NULL: 0.1418540274120586\nLOCs containing probem CONDITION_COMPARISON_SIMPLE: 0.012978461589194842\nProblems per file for CONDITION_COMPARISON_SIMPLE: 2.444669502396867\nLOCs containing probem CONDITION_COMPARISON: 0.0235786616714214\nProblems per file for CONDITION_COMPARISON: 4.4413611504962525\n\nProblems per project\n second_large_dataset/bokeh: {'CONDITION_COMPARISON': 1398, 'CONDITION_COMPARISON_SIMPLE': 842, 'RETURN_NULL': 65}\n second_large_dataset/pandas-dev: {'CONDITION_COMPARISON': 7752, 'CONDITION_COMPARISON_SIMPLE': 4512, 'RETURN_NULL': 114}\n second_large_dataset/docker: {'RETURN_NULL': 16, 'CONDITION_COMPARISON': 576, 'CONDITION_COMPARISON_SIMPLE': 296}\n second_large_dataset/google: {'RETURN_NULL': 26, 'CONDITION_COMPARISON': 316, 'CONDITION_COMPARISON_SIMPLE': 179}\n second_large_dataset/certbot: {'CONDITION_COMPARISON': 1337, 'CONDITION_COMPARISON_SIMPLE': 645, 'RETURN_NULL': 52}\n second_large_dataset/encode: {'CONDITION_COMPARISON': 590, 'CONDITION_COMPARISON_SIMPLE': 294, 'RETURN_NULL': 35}\n second_large_dataset/keras-team: {'CONDITION_COMPARISON': 285, 'CONDITION_COMPARISON_SIMPLE': 240, 'RETURN_NULL': 4}\n second_large_dataset/ansible: {'CONDITION_COMPARISON': 11095, 'CONDITION_COMPARISON_SIMPLE': 5183, 'RETURN_NULL': 189}\n second_large_dataset/jakubroztocil: {'CONDITION_COMPARISON': 108, 'CONDITION_COMPARISON_SIMPLE': 32}\n second_large_dataset/tiangolo: {'CONDITION_COMPARISON': 273, 'CONDITION_COMPARISON_SIMPLE': 92, 'RETURN_NULL': 14}\n second_large_dataset/explosion: {'CONDITION_COMPARISON': 1013, 'CONDITION_COMPARISON_SIMPLE': 637, 'RETURN_NULL': 15}\n second_large_dataset/home-assistant: {'RETURN_NULL': 1032, 'CONDITION_COMPARISON': 15449, 'CONDITION_COMPARISON_SIMPLE': 9547}\n second_large_dataset/pallets: {'CONDITION_COMPARISON': 296, 'CONDITION_COMPARISON_SIMPLE': 189, 'RETURN_NULL': 5}\n second_large_dataset/tornadoweb: {'CONDITION_COMPARISON': 1124, 'CONDITION_COMPARISON_SIMPLE': 639, 'RETURN_NULL': 77}\n second_large_dataset/pytorch: {'CONDITION_COMPARISON': 9186, 'CONDITION_COMPARISON_SIMPLE': 5419, 'RETURN_NULL': 103}\n second_large_dataset/django: {'CONDITION_COMPARISON': 5925, 'CONDITION_COMPARISON_SIMPLE': 2624, 'RETURN_NULL': 178}\n second_large_dataset/apache: {'CONDITION_COMPARISON': 4169, 'CONDITION_COMPARISON_SIMPLE': 1775, 'RETURN_NULL': 138}\n second_large_dataset/scikit-learn: {'CONDITION_COMPARISON': 4889, 'CONDITION_COMPARISON_SIMPLE': 3063, 'RETURN_NULL': 38}\n\nFiles per project\n second_large_dataset/bokeh: 894, 0.06036054283978124\n second_large_dataset/pandas-dev: 918, 0.061980960097225035\n second_large_dataset/docker: 67, 0.004523664843697252\n second_large_dataset/google: 50, 0.003375869286341233\n second_large_dataset/certbot: 283, 0.019107420160691377\n second_large_dataset/encode: 127, 0.008574707987306732\n second_large_dataset/keras-team: 141, 0.009519951387482276\n second_large_dataset/ansible: 1105, 0.07460671122814125\n second_large_dataset/jakubroztocil: 50, 0.003375869286341233\n second_large_dataset/tiangolo: 439, 0.029640132334076023\n second_large_dataset/explosion: 562, 0.03794477077847546\n second_large_dataset/home-assistant: 4146, 0.27992708122341503\n second_large_dataset/pallets: 54, 0.0036459388292485314\n second_large_dataset/tornadoweb: 84, 0.005671460401053271\n second_large_dataset/pytorch: 1186, 0.08007561947201404\n second_large_dataset/django: 2152, 0.14529741408412666\n second_large_dataset/apache: 1893, 0.12781041118087907\n second_large_dataset/scikit-learn: 660, 0.044561474579704274\n"
    }
   ],
   "source": [
    "#TaskSourceFileToDataStructure(input_src_path=\"second_large_dataset\").invalidate(confirm=False)\n",
    "d6tflow.run(TaskRuleProcessor(input_src_path=\"second_large_dataset\"))\n",
    "problems = TaskRuleProcessor(input_src_path=\"second_large_dataset\").outputLoad()\n",
    "analyse_parsed_data(problems)\n",
    "print(\"\\Total File Size\")\n",
    "_ = analyse_total_file_size(problems)\n",
    "print(\"\\nProblems per project\")\n",
    "analyse_problems_per_project(problems, 2)\n",
    "print(\"\\nFiles per project\")\n",
    "files_per_project_train =analyse_files_per_project(problems, 2)"
   ]
  },
  {
   "cell_type": "code",
   "execution_count": 9,
   "metadata": {
    "tags": []
   },
   "outputs": [
    {
     "output_type": "stream",
     "name": "stdout",
     "text": "Lines of Code: 658966\nTotal Files: 3702\nLOCs per file 178.0027012425716\nLOCs containing probem RETURN_NULL: 0.0007617995465623416\nProblems per file for RETURN_NULL: 0.13560237709346298\nLOCs containing probem CONDITION_COMPARISON_SIMPLE: 0.012486228424531766\nProblems per file for CONDITION_COMPARISON_SIMPLE: 2.2225823878984334\nLOCs containing probem CONDITION_COMPARISON: 0.02355053219741231\nProblems per file for CONDITION_COMPARISON: 4.192058346839546\n\nProblems per project\n validation/extracted/second_large_dataset/bokeh: {'CONDITION_COMPARISON': 324, 'CONDITION_COMPARISON_SIMPLE': 185, 'RETURN_NULL': 11}\n validation/extracted/second_large_dataset/pandas-dev: {'RETURN_NULL': 13, 'CONDITION_COMPARISON': 1024, 'CONDITION_COMPARISON_SIMPLE': 582}\n validation/extracted/second_large_dataset/docker: {'CONDITION_COMPARISON': 199, 'CONDITION_COMPARISON_SIMPLE': 90, 'RETURN_NULL': 16}\n validation/extracted/second_large_dataset/google: {'CONDITION_COMPARISON': 65, 'CONDITION_COMPARISON_SIMPLE': 19, 'RETURN_NULL': 3}\n validation/extracted/second_large_dataset/certbot: {'CONDITION_COMPARISON': 383, 'CONDITION_COMPARISON_SIMPLE': 179, 'RETURN_NULL': 18}\n validation/extracted/second_large_dataset/encode: {'CONDITION_COMPARISON': 137, 'CONDITION_COMPARISON_SIMPLE': 67, 'RETURN_NULL': 9}\n validation/extracted/second_large_dataset/keras-team: {'CONDITION_COMPARISON': 90, 'CONDITION_COMPARISON_SIMPLE': 60}\n validation/extracted/second_large_dataset/ansible: {'CONDITION_COMPARISON': 3178, 'CONDITION_COMPARISON_SIMPLE': 1465, 'RETURN_NULL': 43}\n validation/extracted/second_large_dataset/jakubroztocil: {'CONDITION_COMPARISON': 102, 'CONDITION_COMPARISON_SIMPLE': 32}\n validation/extracted/second_large_dataset/tiangolo: {'RETURN_NULL': 7, 'CONDITION_COMPARISON': 27, 'CONDITION_COMPARISON_SIMPLE': 11}\n validation/extracted/second_large_dataset/explosion: {'CONDITION_COMPARISON': 329, 'CONDITION_COMPARISON_SIMPLE': 199, 'RETURN_NULL': 3}\n validation/extracted/second_large_dataset/home-assistant: {'CONDITION_COMPARISON': 3752, 'CONDITION_COMPARISON_SIMPLE': 2205, 'RETURN_NULL': 265}\n validation/extracted/second_large_dataset/pallets: {'CONDITION_COMPARISON': 49, 'CONDITION_COMPARISON_SIMPLE': 25, 'RETURN_NULL': 2}\n validation/extracted/second_large_dataset/tornadoweb: {'CONDITION_COMPARISON': 238, 'CONDITION_COMPARISON_SIMPLE': 143, 'RETURN_NULL': 3}\n validation/extracted/second_large_dataset/pytorch: {'CONDITION_COMPARISON': 2354, 'CONDITION_COMPARISON_SIMPLE': 1398, 'RETURN_NULL': 37}\n validation/extracted/second_large_dataset/django: {'CONDITION_COMPARISON': 1481, 'CONDITION_COMPARISON_SIMPLE': 631, 'RETURN_NULL': 56}\n validation/extracted/second_large_dataset/apache: {'CONDITION_COMPARISON': 795, 'CONDITION_COMPARISON_SIMPLE': 340, 'RETURN_NULL': 13}\n validation/extracted/second_large_dataset/scikit-learn: {'CONDITION_COMPARISON': 992, 'CONDITION_COMPARISON_SIMPLE': 597, 'RETURN_NULL': 3}\n\nFiles per project\n validation/extracted/second_large_dataset/bokeh: 241, 0.06509994597514857\n validation/extracted/second_large_dataset/pandas-dev: 206, 0.05564559697460832\n validation/extracted/second_large_dataset/docker: 16, 0.004321988114532685\n validation/extracted/second_large_dataset/google: 12, 0.0032414910858995136\n validation/extracted/second_large_dataset/certbot: 82, 0.02215018908698001\n validation/extracted/second_large_dataset/encode: 28, 0.007563479200432199\n validation/extracted/second_large_dataset/keras-team: 31, 0.008373851971907077\n validation/extracted/second_large_dataset/ansible: 298, 0.08049702863317126\n validation/extracted/second_large_dataset/jakubroztocil: 11, 0.002971366828741221\n validation/extracted/second_large_dataset/tiangolo: 96, 0.02593192868719611\n validation/extracted/second_large_dataset/explosion: 133, 0.035926526202052944\n validation/extracted/second_large_dataset/home-assistant: 1055, 0.28498109130199895\n validation/extracted/second_large_dataset/pallets: 17, 0.004592112371690978\n validation/extracted/second_large_dataset/tornadoweb: 25, 0.00675310642895732\n validation/extracted/second_large_dataset/pytorch: 287, 0.07752566180443003\n validation/extracted/second_large_dataset/django: 521, 0.14073473797947056\n validation/extracted/second_large_dataset/apache: 493, 0.13317125877903835\n validation/extracted/second_large_dataset/scikit-learn: 150, 0.04051863857374392\n"
    }
   ],
   "source": [
    "d6tflow.run(TaskRuleProcessor(input_src_path=\"validation\"))\n",
    "problems = TaskRuleProcessor(input_src_path=\"validation\").outputLoad()\n",
    "analyse_parsed_data(problems)\n",
    "print(\"\\Total File Size\")\n",
    "_ = analyse_total_file_size(problems)\n",
    "print(\"\\nProblems per project\")\n",
    "analyse_problems_per_project(problems, 4)\n",
    "print(\"\\nFiles per project\")\n",
    "files_per_project_val =analyse_files_per_project(problems, 4)"
   ]
  },
  {
   "cell_type": "code",
   "execution_count": 10,
   "metadata": {
    "tags": []
   },
   "outputs": [
    {
     "output_type": "stream",
     "name": "stdout",
     "text": "dict_keys(['second_large_dataset/bokeh', 'second_large_dataset/pandas-dev', 'second_large_dataset/docker', 'second_large_dataset/google', 'second_large_dataset/certbot', 'second_large_dataset/encode', 'second_large_dataset/keras-team', 'second_large_dataset/ansible', 'second_large_dataset/jakubroztocil', 'second_large_dataset/tiangolo', 'second_large_dataset/explosion', 'second_large_dataset/home-assistant', 'second_large_dataset/pallets', 'second_large_dataset/tornadoweb', 'second_large_dataset/pytorch', 'second_large_dataset/django', 'second_large_dataset/apache', 'second_large_dataset/scikit-learn'])\n"
    },
    {
     "output_type": "execute_result",
     "data": {
      "text/plain": "[('second_large_dataset/bokeh', 894, 241),\n ('second_large_dataset/pandas-dev', 918, 206),\n ('second_large_dataset/docker', 67, 16),\n ('second_large_dataset/google', 50, 12),\n ('second_large_dataset/certbot', 283, 82),\n ('second_large_dataset/encode', 127, 28),\n ('second_large_dataset/keras-team', 141, 31),\n ('second_large_dataset/ansible', 1105, 298),\n ('second_large_dataset/jakubroztocil', 50, 11),\n ('second_large_dataset/tiangolo', 439, 96),\n ('second_large_dataset/explosion', 562, 133),\n ('second_large_dataset/home-assistant', 4146, 1055),\n ('second_large_dataset/pallets', 54, 17),\n ('second_large_dataset/tornadoweb', 84, 25),\n ('second_large_dataset/pytorch', 1186, 287),\n ('second_large_dataset/django', 2152, 521),\n ('second_large_dataset/apache', 1893, 493),\n ('second_large_dataset/scikit-learn', 660, 150)]"
     },
     "metadata": {},
     "execution_count": 10
    }
   ],
   "source": [
    "#remove start of folder path for validation set\n",
    "files_per_project_val_new = {}\n",
    "for (key, value) in files_per_project_val.items():\n",
    "    new_key = \"/\".join(key.split(\"/\")[2:])\n",
    "    files_per_project_val_new[new_key] = value\n",
    "print(files_per_project_val_new.keys())\n",
    "combined = [(k, files_per_project_train[k], files_per_project_val_new[k]) for k in files_per_project_val_new.keys()]\n",
    "combined"
   ]
  }
 ]
}