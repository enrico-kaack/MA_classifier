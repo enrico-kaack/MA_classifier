{
 "metadata": {
  "language_info": {
   "codemirror_mode": {
    "name": "ipython",
    "version": 3
   },
   "file_extension": ".py",
   "mimetype": "text/x-python",
   "name": "python",
   "nbconvert_exporter": "python",
   "pygments_lexer": "ipython3",
   "version": "3.8.5-final"
  },
  "orig_nbformat": 2,
  "kernelspec": {
   "name": "python37364bitownclassifiervenv97636dc04982443f83ed0d68878d1cc4",
   "display_name": "Python 3.7.3 64-bit ('own_classifier': venv)"
  }
 },
 "nbformat": 4,
 "nbformat_minor": 2,
 "cells": [
  {
   "cell_type": "code",
   "execution_count": 1,
   "metadata": {
    "tags": []
   },
   "outputs": [
    {
     "output_type": "stream",
     "name": "stderr",
     "text": "Loading postgres module without psycopg2 installed. Will crash at runtime if postgres functionality is used.\nWelcome to d6tflow!\n"
    }
   ],
   "source": [
    "from tasks.preprocessing import TaskRuleProcessor, ProblemType, TaskSourceFileToDataStructure\n",
    "from input.input_data_analysis import analyse_parsed_data, analyse_problems_per_project, analyse_files_per_project, analyse_total_file_size\n",
    "import d6tflow\n",
    "d6tflow.settings.log_level = 'WARNING' # 'DEBUG', 'INFO', 'WARNING', 'ERROR', 'CRITICAL'"
   ]
  },
  {
   "source": [
    "d6tflow.run(TaskRuleProcessor(input_src_path=\"raw_data\"))\n",
    "problems = TaskRuleProcessor(input_src_path=\"raw_data\").outputLoad()\n",
    "analyse_parsed_data(problems)\n",
    "print(\"\\Total File Size\")\n",
    "_ = analyse_total_file_size(problems)\n",
    "print(\"\\nProblems per project\")\n",
    "analyse_problems_per_project(problems, 2)\n",
    "print(\"\\nFiles per project\")\n",
    "_=analyse_files_per_project(problems, 2)\n"
   ],
   "cell_type": "markdown",
   "metadata": {
    "tags": []
   }
  },
  {
   "cell_type": "markdown",
   "metadata": {},
   "source": [
    "## Run analysis on remaining dataset"
   ]
  },
  {
   "cell_type": "code",
   "execution_count": 2,
   "metadata": {
    "tags": []
   },
   "outputs": [
    {
     "output_type": "stream",
     "name": "stdout",
     "text": "###Running TaskSourceFileToDataStructure\n  0%|          | 0/13330 [00:00&lt;?, ?it/s]###Running TaskRuleProcessor\n 21%|██        | 2789/13330 [04:25&lt;27:17,  6.44it/s]WARNING:root:Syntax error on file:final_dataset/ansible/ansible/devel/ansible-9792d631b1b92356d41e9a792de4b2479a1bce44/test/support/windows-integration/collections/ansible_collections/ansible/windows/plugins/action/win_copy.py. Ignoring file\nWARNING:root:Syntax error on file:final_dataset/ansible/ansible/devel/ansible-9792d631b1b92356d41e9a792de4b2479a1bce44/test/support/windows-integration/collections/ansible_collections/ansible/windows/plugins/action/win_copy.py. Ignoring file\nWARNING:root:Syntax error on file:final_dataset/ansible/ansible/devel/ansible-9792d631b1b92356d41e9a792de4b2479a1bce44/test/support/windows-integration/collections/ansible_collections/ansible/windows/plugins/action/win_copy.py. Ignoring file\nWARNING:root:Syntax error on file:final_dataset/ansible/ansible/devel/ansible-9792d631b1b92356d41e9a792de4b2479a1bce44/test/support/windows-integration/collections/ansible_collections/ansible/windows/plugins/modules/win_stat.py. Ignoring file\nWARNING:root:Syntax error on file:final_dataset/ansible/ansible/devel/ansible-9792d631b1b92356d41e9a792de4b2479a1bce44/test/support/windows-integration/collections/ansible_collections/ansible/windows/plugins/modules/win_stat.py. Ignoring file\nWARNING:root:Syntax error on file:final_dataset/ansible/ansible/devel/ansible-9792d631b1b92356d41e9a792de4b2479a1bce44/test/support/windows-integration/collections/ansible_collections/ansible/windows/plugins/modules/win_stat.py. Ignoring file\nWARNING:root:Syntax error on file:final_dataset/ansible/ansible/devel/ansible-9792d631b1b92356d41e9a792de4b2479a1bce44/test/support/windows-integration/collections/ansible_collections/ansible/windows/plugins/modules/win_shell.py. Ignoring file\nWARNING:root:Syntax error on file:final_dataset/ansible/ansible/devel/ansible-9792d631b1b92356d41e9a792de4b2479a1bce44/test/support/windows-integration/collections/ansible_collections/ansible/windows/plugins/modules/win_shell.py. Ignoring file\nWARNING:root:Syntax error on file:final_dataset/ansible/ansible/devel/ansible-9792d631b1b92356d41e9a792de4b2479a1bce44/test/support/windows-integration/collections/ansible_collections/ansible/windows/plugins/modules/win_shell.py. Ignoring file\nWARNING:root:Syntax error on file:final_dataset/ansible/ansible/devel/ansible-9792d631b1b92356d41e9a792de4b2479a1bce44/test/support/windows-integration/collections/ansible_collections/ansible/windows/plugins/modules/win_file.py. Ignoring file\nWARNING:root:Syntax error on file:final_dataset/ansible/ansible/devel/ansible-9792d631b1b92356d41e9a792de4b2479a1bce44/test/support/windows-integration/collections/ansible_collections/ansible/windows/plugins/modules/win_file.py. Ignoring file\nWARNING:root:Syntax error on file:final_dataset/ansible/ansible/devel/ansible-9792d631b1b92356d41e9a792de4b2479a1bce44/test/support/windows-integration/collections/ansible_collections/ansible/windows/plugins/modules/win_file.py. Ignoring file\nWARNING:root:Syntax error on file:final_dataset/ansible/ansible/devel/ansible-9792d631b1b92356d41e9a792de4b2479a1bce44/test/support/windows-integration/collections/ansible_collections/ansible/windows/plugins/modules/win_ping.py. Ignoring file\nWARNING:root:Syntax error on file:final_dataset/ansible/ansible/devel/ansible-9792d631b1b92356d41e9a792de4b2479a1bce44/test/support/windows-integration/collections/ansible_collections/ansible/windows/plugins/modules/win_ping.py. Ignoring file\nWARNING:root:Syntax error on file:final_dataset/ansible/ansible/devel/ansible-9792d631b1b92356d41e9a792de4b2479a1bce44/test/support/windows-integration/collections/ansible_collections/ansible/windows/plugins/modules/win_ping.py. Ignoring file\nWARNING:root:Syntax error on file:final_dataset/ansible/ansible/devel/ansible-9792d631b1b92356d41e9a792de4b2479a1bce44/test/support/windows-integration/collections/ansible_collections/ansible/windows/plugins/modules/win_copy.py. Ignoring file\nWARNING:root:Syntax error on file:final_dataset/ansible/ansible/devel/ansible-9792d631b1b92356d41e9a792de4b2479a1bce44/test/support/windows-integration/collections/ansible_collections/ansible/windows/plugins/modules/win_copy.py. Ignoring file\nWARNING:root:Syntax error on file:final_dataset/ansible/ansible/devel/ansible-9792d631b1b92356d41e9a792de4b2479a1bce44/test/support/windows-integration/collections/ansible_collections/ansible/windows/plugins/modules/win_copy.py. Ignoring file\n 23%|██▎       | 3077/13330 [04:45&lt;50:50,  3.36it/s]WARNING:root:Syntax error on file:final_dataset/ansible/ansible/devel/ansible-9792d631b1b92356d41e9a792de4b2479a1bce44/lib/ansible/module_utils/ansible_release.py. Ignoring file\nWARNING:root:Syntax error on file:final_dataset/ansible/ansible/devel/ansible-9792d631b1b92356d41e9a792de4b2479a1bce44/lib/ansible/module_utils/ansible_release.py. Ignoring file\nWARNING:root:Syntax error on file:final_dataset/ansible/ansible/devel/ansible-9792d631b1b92356d41e9a792de4b2479a1bce44/lib/ansible/module_utils/ansible_release.py. Ignoring file\n 61%|██████    | 8070/13330 [09:15&lt;12:04,  7.26it/s]WARNING:root:Syntax error on file:final_dataset/pytorch/pytorch/master/pytorch-2b70f827373fe5c90e15ce7ba0a1d331dcd57379/tools/autograd/templates/annotated_fn_args.py. Ignoring file\nWARNING:root:Syntax error on file:final_dataset/pytorch/pytorch/master/pytorch-2b70f827373fe5c90e15ce7ba0a1d331dcd57379/tools/autograd/templates/annotated_fn_args.py. Ignoring file\nWARNING:root:Syntax error on file:final_dataset/pytorch/pytorch/master/pytorch-2b70f827373fe5c90e15ce7ba0a1d331dcd57379/tools/autograd/templates/annotated_fn_args.py. Ignoring file\n 88%|████████▊ | 11719/13330 [14:05&lt;03:31,  7.63it/s]WARNING:root:Syntax error on file:final_dataset/apache/airflow/master/airflow-3a349624a20d3432dc75e337d6ffb1109a50e451/backport_packages/airflow/version.py. Ignoring file\nWARNING:root:Syntax error on file:final_dataset/apache/airflow/master/airflow-3a349624a20d3432dc75e337d6ffb1109a50e451/backport_packages/airflow/version.py. Ignoring file\nWARNING:root:Syntax error on file:final_dataset/apache/airflow/master/airflow-3a349624a20d3432dc75e337d6ffb1109a50e451/backport_packages/airflow/version.py. Ignoring file\n100%|██████████| 13330/13330 [15:36&lt;00:00, 14.23it/s]\nLines of Code: 2530455\nTotal Files: 13330\nLOCs per file 189.83158289572393\nLOCs containing probem RETURN_NULL: 0.0007374167886802966\nProblems per file for RETURN_NULL: 0.13998499624906227\nLOCs containing probem CONDITION_COMPARISON_SIMPLE: 0.012863694473918722\nProblems per file for CONDITION_COMPARISON_SIMPLE: 2.4419354838709677\nLOCs containing probem CONDITION_COMPARISON: 0.023410414332600264\nProblems per file for CONDITION_COMPARISON: 4.44403600900225\n\\Total File Size\nTotal File Size [MB] 86.47183895111084\n\nProblems per project\n final_dataset/bokeh: {&#39;CONDITION_COMPARISON&#39;: 1261, &#39;CONDITION_COMPARISON_SIMPLE&#39;: 727, &#39;RETURN_NULL&#39;: 53}\n final_dataset/pandas-dev: {&#39;CONDITION_COMPARISON&#39;: 6549, &#39;CONDITION_COMPARISON_SIMPLE&#39;: 3878, &#39;RETURN_NULL&#39;: 88}\n final_dataset/docker: {&#39;CONDITION_COMPARISON&#39;: 597, &#39;CONDITION_COMPARISON_SIMPLE&#39;: 299, &#39;RETURN_NULL&#39;: 19}\n final_dataset/google: {&#39;CONDITION_COMPARISON&#39;: 237, &#39;CONDITION_COMPARISON_SIMPLE&#39;: 115, &#39;RETURN_NULL&#39;: 9}\n final_dataset/certbot: {&#39;CONDITION_COMPARISON&#39;: 1187, &#39;CONDITION_COMPARISON_SIMPLE&#39;: 580, &#39;RETURN_NULL&#39;: 36}\n final_dataset/encode: {&#39;CONDITION_COMPARISON&#39;: 571, &#39;CONDITION_COMPARISON_SIMPLE&#39;: 289, &#39;RETURN_NULL&#39;: 35}\n final_dataset/keras-team: {&#39;CONDITION_COMPARISON&#39;: 264, &#39;CONDITION_COMPARISON_SIMPLE&#39;: 205, &#39;RETURN_NULL&#39;: 4}\n final_dataset/ansible: {&#39;CONDITION_COMPARISON&#39;: 10699, &#39;CONDITION_COMPARISON_SIMPLE&#39;: 4959, &#39;RETURN_NULL&#39;: 171}\n final_dataset/jakubroztocil: {&#39;CONDITION_COMPARISON&#39;: 92, &#39;CONDITION_COMPARISON_SIMPLE&#39;: 37}\n final_dataset/tiangolo: {&#39;CONDITION_COMPARISON&#39;: 142, &#39;CONDITION_COMPARISON_SIMPLE&#39;: 49, &#39;RETURN_NULL&#39;: 12}\n final_dataset/explosion: {&#39;CONDITION_COMPARISON&#39;: 987, &#39;CONDITION_COMPARISON_SIMPLE&#39;: 623, &#39;RETURN_NULL&#39;: 9}\n final_dataset/home-assistant: {&#39;RETURN_NULL&#39;: 963, &#39;CONDITION_COMPARISON&#39;: 14203, &#39;CONDITION_COMPARISON_SIMPLE&#39;: 8733}\n final_dataset/pallets: {&#39;CONDITION_COMPARISON&#39;: 178, &#39;CONDITION_COMPARISON_SIMPLE&#39;: 117, &#39;RETURN_NULL&#39;: 3}\n final_dataset/tornadoweb: {&#39;CONDITION_COMPARISON&#39;: 1036, &#39;CONDITION_COMPARISON_SIMPLE&#39;: 600, &#39;RETURN_NULL&#39;: 39}\n final_dataset/pytorch: {&#39;CONDITION_COMPARISON&#39;: 8285, &#39;CONDITION_COMPARISON_SIMPLE&#39;: 4915, &#39;RETURN_NULL&#39;: 112}\n final_dataset/django: {&#39;RETURN_NULL&#39;: 154, &#39;CONDITION_COMPARISON&#39;: 5234, &#39;CONDITION_COMPARISON_SIMPLE&#39;: 2316}\n final_dataset/apache: {&#39;CONDITION_COMPARISON&#39;: 3470, &#39;CONDITION_COMPARISON_SIMPLE&#39;: 1434, &#39;RETURN_NULL&#39;: 122}\n final_dataset/scikit-learn: {&#39;CONDITION_COMPARISON&#39;: 4247, &#39;CONDITION_COMPARISON_SIMPLE&#39;: 2675, &#39;RETURN_NULL&#39;: 37}\n\nFiles per project\n final_dataset/bokeh: 803, 0.06024006001500375\n final_dataset/pandas-dev: 814, 0.061065266316579145\n final_dataset/docker: 56, 0.0042010502625656415\n final_dataset/google: 42, 0.003150787696924231\n final_dataset/certbot: 266, 0.019954988747186795\n final_dataset/encode: 107, 0.008027006751687922\n final_dataset/keras-team: 126, 0.009452363090772693\n final_dataset/ansible: 1009, 0.07569392348087021\n final_dataset/jakubroztocil: 42, 0.003150787696924231\n final_dataset/tiangolo: 399, 0.029932483120780194\n final_dataset/explosion: 503, 0.0377344336084021\n final_dataset/home-assistant: 3760, 0.2820705176294073\n final_dataset/pallets: 46, 0.0034508627156789196\n final_dataset/tornadoweb: 82, 0.006151537884471118\n final_dataset/pytorch: 1067, 0.0800450112528132\n final_dataset/django: 1890, 0.1417854463615904\n final_dataset/apache: 1741, 0.13060765191297824\n final_dataset/scikit-learn: 577, 0.04328582145536384\n"
    }
   ],
   "source": [
    "TaskSourceFileToDataStructure(input_src_path=\"final_dataset\").invalidate(confirm=True)\n",
    "d6tflow.run(TaskRuleProcessor(input_src_path=\"final_dataset\"))\n",
    "problems = TaskRuleProcessor(input_src_path=\"final_dataset\").outputLoad()\n",
    "analyse_parsed_data(problems)\n",
    "print(\"\\Total File Size\")\n",
    "_ = analyse_total_file_size(problems)\n",
    "print(\"\\nProblems per project\")\n",
    "analyse_problems_per_project(problems, 2)\n",
    "print(\"\\nFiles per project\")\n",
    "files_per_project_train =analyse_files_per_project(problems, 2)"
   ]
  },
  {
   "cell_type": "code",
   "execution_count": 6,
   "metadata": {
    "tags": []
   },
   "outputs": [
    {
     "output_type": "stream",
     "name": "stdout",
     "text": "Lines of Code: 246813\nTotal Files: 1481\nLOCs per file 166.6529372045915\nLOCs containing probem RETURN_NULL: 0.0009156729993963041\nProblems per file for RETURN_NULL: 0.15259959486833222\nLOCs containing probem CONDITION_COMPARISON_SIMPLE: 0.012110383164582093\nProblems per file for CONDITION_COMPARISON_SIMPLE: 2.0182309250506414\nLOCs containing probem CONDITION_COMPARISON: 0.02310251080777755\nProblems per file for CONDITION_COMPARISON: 3.850101282916948\n\\Total File Size\nTotal File Size [MB] 8.510643005371094\n\nProblems per project\n final_test/final_dataset/bokeh: {&#39;RETURN_NULL&#39;: 11, &#39;CONDITION_COMPARISON&#39;: 149, &#39;CONDITION_COMPARISON_SIMPLE&#39;: 111}\n final_test/final_dataset/pandas-dev: {&#39;CONDITION_COMPARISON&#39;: 489, &#39;CONDITION_COMPARISON_SIMPLE&#39;: 277, &#39;RETURN_NULL&#39;: 18}\n final_test/final_dataset/docker: {&#39;CONDITION_COMPARISON&#39;: 26, &#39;CONDITION_COMPARISON_SIMPLE&#39;: 9, &#39;RETURN_NULL&#39;: 3}\n final_test/final_dataset/google: {&#39;CONDITION_COMPARISON&#39;: 5, &#39;CONDITION_COMPARISON_SIMPLE&#39;: 3}\n final_test/final_dataset/certbot: {&#39;CONDITION_COMPARISON&#39;: 308, &#39;CONDITION_COMPARISON_SIMPLE&#39;: 126, &#39;RETURN_NULL&#39;: 26}\n final_test/final_dataset/encode: {&#39;CONDITION_COMPARISON&#39;: 8, &#39;CONDITION_COMPARISON_SIMPLE&#39;: 3}\n final_test/final_dataset/keras-team: {&#39;CONDITION_COMPARISON&#39;: 25, &#39;CONDITION_COMPARISON_SIMPLE&#39;: 22}\n final_test/final_dataset/ansible: {&#39;CONDITION_COMPARISON&#39;: 940, &#39;CONDITION_COMPARISON_SIMPLE&#39;: 402, &#39;RETURN_NULL&#39;: 10}\n final_test/final_dataset/jakubroztocil: {&#39;CONDITION_COMPARISON&#39;: 49, &#39;CONDITION_COMPARISON_SIMPLE&#39;: 10}\n final_test/final_dataset/tiangolo: {&#39;RETURN_NULL&#39;: 1, &#39;CONDITION_COMPARISON&#39;: 12, &#39;CONDITION_COMPARISON_SIMPLE&#39;: 8}\n final_test/final_dataset/explosion: {&#39;CONDITION_COMPARISON&#39;: 54, &#39;CONDITION_COMPARISON_SIMPLE&#39;: 30, &#39;RETURN_NULL&#39;: 1}\n final_test/final_dataset/home-assistant: {&#39;CONDITION_COMPARISON&#39;: 1430, &#39;CONDITION_COMPARISON_SIMPLE&#39;: 827, &#39;RETURN_NULL&#39;: 113}\n final_test/final_dataset/pallets: {&#39;CONDITION_COMPARISON&#39;: 14, &#39;CONDITION_COMPARISON_SIMPLE&#39;: 5, &#39;RETURN_NULL&#39;: 4}\n final_test/final_dataset/tornadoweb: {&#39;CONDITION_COMPARISON&#39;: 47, &#39;CONDITION_COMPARISON_SIMPLE&#39;: 36}\n final_test/final_dataset/pytorch: {&#39;CONDITION_COMPARISON&#39;: 919, &#39;CONDITION_COMPARISON_SIMPLE&#39;: 509, &#39;RETURN_NULL&#39;: 4}\n final_test/final_dataset/django: {&#39;CONDITION_COMPARISON&#39;: 549, &#39;CONDITION_COMPARISON_SIMPLE&#39;: 250, &#39;RETURN_NULL&#39;: 26}\n final_test/final_dataset/apache: {&#39;CONDITION_COMPARISON&#39;: 393, &#39;CONDITION_COMPARISON_SIMPLE&#39;: 183, &#39;RETURN_NULL&#39;: 9}\n final_test/final_dataset/scikit-learn: {&#39;CONDITION_COMPARISON&#39;: 285, &#39;CONDITION_COMPARISON_SIMPLE&#39;: 178}\n\nFiles per project\n final_test/final_dataset: 1481, 1.0\n"
    }
   ],
   "source": [
    "TaskSourceFileToDataStructure(input_src_path=\"final_test\").invalidate(confirm=True)\n",
    "d6tflow.run(TaskRuleProcessor(input_src_path=\"final_test\"))\n",
    "problems = TaskRuleProcessor(input_src_path=\"final_test\").outputLoad()\n",
    "analyse_parsed_data(problems)\n",
    "print(\"\\Total File Size\")\n",
    "_ = analyse_total_file_size(problems)\n",
    "print(\"\\nProblems per project\")\n",
    "analyse_problems_per_project(problems, 3)\n",
    "print(\"\\nFiles per project\")\n",
    "files_per_project_train =analyse_files_per_project(problems, 2)"
   ]
  },
  {
   "cell_type": "code",
   "execution_count": 4,
   "metadata": {
    "tags": []
   },
   "outputs": [
    {
     "output_type": "stream",
     "name": "stdout",
     "text": "Lines of Code: 671554\nTotal Files: 3702\nLOCs per file 181.40302539168016\nLOCs containing probem RETURN_NULL: 0.0007609216831408941\nProblems per file for RETURN_NULL: 0.13803349540788762\nLOCs containing probem CONDITION_COMPARISON_SIMPLE: 0.013246887070883354\nProblems per file for CONDITION_COMPARISON_SIMPLE: 2.4030253916801727\nLOCs containing probem CONDITION_COMPARISON: 0.02435991744520917\nProblems per file for CONDITION_COMPARISON: 4.418962722852513\n\\Total File Size\nTotal File Size [MB] 23.063316345214844\n\nProblems per project\n final_validation/extracted/final_dataset/bokeh: {&#39;CONDITION_COMPARISON&#39;: 312, &#39;CONDITION_COMPARISON_SIMPLE&#39;: 189, &#39;RETURN_NULL&#39;: 12}\n final_validation/extracted/final_dataset/pandas-dev: {&#39;CONDITION_COMPARISON&#39;: 1738, &#39;CONDITION_COMPARISON_SIMPLE&#39;: 939, &#39;RETURN_NULL&#39;: 21}\n final_validation/extracted/final_dataset/docker: {&#39;RETURN_NULL&#39;: 10, &#39;CONDITION_COMPARISON&#39;: 152, &#39;CONDITION_COMPARISON_SIMPLE&#39;: 78}\n final_validation/extracted/final_dataset/google: {&#39;RETURN_NULL&#39;: 20, &#39;CONDITION_COMPARISON&#39;: 139, &#39;CONDITION_COMPARISON_SIMPLE&#39;: 80}\n final_validation/extracted/final_dataset/certbot: {&#39;CONDITION_COMPARISON&#39;: 225, &#39;CONDITION_COMPARISON_SIMPLE&#39;: 118, &#39;RETURN_NULL&#39;: 8}\n final_validation/extracted/final_dataset/encode: {&#39;CONDITION_COMPARISON&#39;: 148, &#39;CONDITION_COMPARISON_SIMPLE&#39;: 69, &#39;RETURN_NULL&#39;: 9}\n final_validation/extracted/final_dataset/keras-team: {&#39;CONDITION_COMPARISON&#39;: 86, &#39;CONDITION_COMPARISON_SIMPLE&#39;: 73}\n final_validation/extracted/final_dataset/ansible: {&#39;CONDITION_COMPARISON&#39;: 2634, &#39;CONDITION_COMPARISON_SIMPLE&#39;: 1287, &#39;RETURN_NULL&#39;: 51}\n final_validation/extracted/final_dataset/jakubroztocil: {&#39;CONDITION_COMPARISON&#39;: 69, &#39;CONDITION_COMPARISON_SIMPLE&#39;: 17}\n final_validation/extracted/final_dataset/tiangolo: {&#39;CONDITION_COMPARISON&#39;: 146, &#39;CONDITION_COMPARISON_SIMPLE&#39;: 46, &#39;RETURN_NULL&#39;: 8}\n final_validation/extracted/final_dataset/explosion: {&#39;CONDITION_COMPARISON&#39;: 301, &#39;CONDITION_COMPARISON_SIMPLE&#39;: 183, &#39;RETURN_NULL&#39;: 8}\n final_validation/extracted/final_dataset/home-assistant: {&#39;CONDITION_COMPARISON&#39;: 3568, &#39;CONDITION_COMPARISON_SIMPLE&#39;: 2192, &#39;RETURN_NULL&#39;: 221}\n final_validation/extracted/final_dataset/pallets: {&#39;CONDITION_COMPARISON&#39;: 153, &#39;CONDITION_COMPARISON_SIMPLE&#39;: 92}\n final_validation/extracted/final_dataset/tornadoweb: {&#39;CONDITION_COMPARISON&#39;: 279, &#39;CONDITION_COMPARISON_SIMPLE&#39;: 146, &#39;RETURN_NULL&#39;: 41}\n final_validation/extracted/final_dataset/pytorch: {&#39;CONDITION_COMPARISON&#39;: 2336, &#39;CONDITION_COMPARISON_SIMPLE&#39;: 1393, &#39;RETURN_NULL&#39;: 24}\n final_validation/extracted/final_dataset/django: {&#39;CONDITION_COMPARISON&#39;: 1623, &#39;CONDITION_COMPARISON_SIMPLE&#39;: 689, &#39;RETURN_NULL&#39;: 54}\n final_validation/extracted/final_dataset/apache: {&#39;CONDITION_COMPARISON&#39;: 1101, &#39;CONDITION_COMPARISON_SIMPLE&#39;: 498, &#39;RETURN_NULL&#39;: 20}\n final_validation/extracted/final_dataset/scikit-learn: {&#39;CONDITION_COMPARISON&#39;: 1349, &#39;CONDITION_COMPARISON_SIMPLE&#39;: 807, &#39;RETURN_NULL&#39;: 4}\n\nFiles per project\n final_validation/extracted/final_dataset/bokeh: 219, 0.05915721231766612\n final_validation/extracted/final_dataset/pandas-dev: 224, 0.06050783360345759\n final_validation/extracted/final_dataset/docker: 19, 0.005132360886007563\n final_validation/extracted/final_dataset/google: 16, 0.004321988114532685\n final_validation/extracted/final_dataset/certbot: 70, 0.0189086980010805\n final_validation/extracted/final_dataset/encode: 37, 0.009994597514856833\n final_validation/extracted/final_dataset/keras-team: 38, 0.010264721772015126\n final_validation/extracted/final_dataset/ansible: 276, 0.07455429497568881\n final_validation/extracted/final_dataset/jakubroztocil: 13, 0.0035116153430578066\n final_validation/extracted/final_dataset/tiangolo: 97, 0.026202052944354404\n final_validation/extracted/final_dataset/explosion: 134, 0.036196650459211235\n final_validation/extracted/final_dataset/home-assistant: 1041, 0.28119935170178284\n final_validation/extracted/final_dataset/pallets: 19, 0.005132360886007563\n final_validation/extracted/final_dataset/tornadoweb: 21, 0.005672609400324149\n final_validation/extracted/final_dataset/pytorch: 297, 0.08022690437601297\n final_validation/extracted/final_dataset/django: 538, 0.14532685035116152\n final_validation/extracted/final_dataset/apache: 483, 0.13047001620745544\n final_validation/extracted/final_dataset/scikit-learn: 160, 0.04321988114532685\n"
    }
   ],
   "source": [
    "d6tflow.run(TaskRuleProcessor(input_src_path=\"final_validation\"))\n",
    "problems = TaskRuleProcessor(input_src_path=\"final_validation\").outputLoad()\n",
    "analyse_parsed_data(problems)\n",
    "print(\"\\Total File Size\")\n",
    "_ = analyse_total_file_size(problems)\n",
    "print(\"\\nProblems per project\")\n",
    "analyse_problems_per_project(problems, 4)\n",
    "print(\"\\nFiles per project\")\n",
    "files_per_project_val =analyse_files_per_project(problems, 4)"
   ]
  },
  {
   "cell_type": "code",
   "execution_count": 5,
   "metadata": {
    "tags": []
   },
   "outputs": [
    {
     "output_type": "stream",
     "name": "stdout",
     "text": "dict_keys([&#39;final_dataset/bokeh&#39;, &#39;final_dataset/pandas-dev&#39;, &#39;final_dataset/docker&#39;, &#39;final_dataset/google&#39;, &#39;final_dataset/certbot&#39;, &#39;final_dataset/encode&#39;, &#39;final_dataset/keras-team&#39;, &#39;final_dataset/ansible&#39;, &#39;final_dataset/jakubroztocil&#39;, &#39;final_dataset/tiangolo&#39;, &#39;final_dataset/explosion&#39;, &#39;final_dataset/home-assistant&#39;, &#39;final_dataset/pallets&#39;, &#39;final_dataset/tornadoweb&#39;, &#39;final_dataset/pytorch&#39;, &#39;final_dataset/django&#39;, &#39;final_dataset/apache&#39;, &#39;final_dataset/scikit-learn&#39;])\n"
    },
    {
     "output_type": "error",
     "ename": "KeyError",
     "evalue": "&#39;final_dataset/bokeh&#39;",
     "traceback": [
      "\u001b[0;31m---------------------------------------------------------------------------\u001b[0m",
      "\u001b[0;31mKeyError\u001b[0m                                  Traceback (most recent call last)",
      "\u001b[0;32m&lt;ipython-input-5-fc3bc204e8d7&gt;\u001b[0m in \u001b[0;36m&lt;module&gt;\u001b[0;34m\u001b[0m\n\u001b[1;32m      5\u001b[0m     \u001b[0mfiles_per_project_val_new\u001b[0m\u001b[0;34m[\u001b[0m\u001b[0mnew_key\u001b[0m\u001b[0;34m]\u001b[0m \u001b[0;34m=\u001b[0m \u001b[0mvalue\u001b[0m\u001b[0;34m\u001b[0m\u001b[0;34m\u001b[0m\u001b[0m\n\u001b[1;32m      6\u001b[0m \u001b[0mprint\u001b[0m\u001b[0;34m(\u001b[0m\u001b[0mfiles_per_project_val_new\u001b[0m\u001b[0;34m.\u001b[0m\u001b[0mkeys\u001b[0m\u001b[0;34m(\u001b[0m\u001b[0;34m)\u001b[0m\u001b[0;34m)\u001b[0m\u001b[0;34m\u001b[0m\u001b[0;34m\u001b[0m\u001b[0m\n\u001b[0;32m----&gt; 7\u001b[0;31m \u001b[0mcombined\u001b[0m \u001b[0;34m=\u001b[0m \u001b[0;34m[\u001b[0m\u001b[0;34m(\u001b[0m\u001b[0mk\u001b[0m\u001b[0;34m,\u001b[0m \u001b[0mfiles_per_project_train\u001b[0m\u001b[0;34m[\u001b[0m\u001b[0mk\u001b[0m\u001b[0;34m]\u001b[0m\u001b[0;34m,\u001b[0m \u001b[0mfiles_per_project_val_new\u001b[0m\u001b[0;34m[\u001b[0m\u001b[0mk\u001b[0m\u001b[0;34m]\u001b[0m\u001b[0;34m)\u001b[0m \u001b[0;32mfor\u001b[0m \u001b[0mk\u001b[0m \u001b[0;32min\u001b[0m \u001b[0mfiles_per_project_val_new\u001b[0m\u001b[0;34m.\u001b[0m\u001b[0mkeys\u001b[0m\u001b[0;34m(\u001b[0m\u001b[0;34m)\u001b[0m\u001b[0;34m]\u001b[0m\u001b[0;34m\u001b[0m\u001b[0;34m\u001b[0m\u001b[0m\n\u001b[0m\u001b[1;32m      8\u001b[0m \u001b[0mcombined\u001b[0m\u001b[0;34m\u001b[0m\u001b[0;34m\u001b[0m\u001b[0m\n",
      "\u001b[0;32m&lt;ipython-input-5-fc3bc204e8d7&gt;\u001b[0m in \u001b[0;36m&lt;listcomp&gt;\u001b[0;34m(.0)\u001b[0m\n\u001b[1;32m      5\u001b[0m     \u001b[0mfiles_per_project_val_new\u001b[0m\u001b[0;34m[\u001b[0m\u001b[0mnew_key\u001b[0m\u001b[0;34m]\u001b[0m \u001b[0;34m=\u001b[0m \u001b[0mvalue\u001b[0m\u001b[0;34m\u001b[0m\u001b[0;34m\u001b[0m\u001b[0m\n\u001b[1;32m      6\u001b[0m \u001b[0mprint\u001b[0m\u001b[0;34m(\u001b[0m\u001b[0mfiles_per_project_val_new\u001b[0m\u001b[0;34m.\u001b[0m\u001b[0mkeys\u001b[0m\u001b[0;34m(\u001b[0m\u001b[0;34m)\u001b[0m\u001b[0;34m)\u001b[0m\u001b[0;34m\u001b[0m\u001b[0;34m\u001b[0m\u001b[0m\n\u001b[0;32m----&gt; 7\u001b[0;31m \u001b[0mcombined\u001b[0m \u001b[0;34m=\u001b[0m \u001b[0;34m[\u001b[0m\u001b[0;34m(\u001b[0m\u001b[0mk\u001b[0m\u001b[0;34m,\u001b[0m \u001b[0mfiles_per_project_train\u001b[0m\u001b[0;34m[\u001b[0m\u001b[0mk\u001b[0m\u001b[0;34m]\u001b[0m\u001b[0;34m,\u001b[0m \u001b[0mfiles_per_project_val_new\u001b[0m\u001b[0;34m[\u001b[0m\u001b[0mk\u001b[0m\u001b[0;34m]\u001b[0m\u001b[0;34m)\u001b[0m \u001b[0;32mfor\u001b[0m \u001b[0mk\u001b[0m \u001b[0;32min\u001b[0m \u001b[0mfiles_per_project_val_new\u001b[0m\u001b[0;34m.\u001b[0m\u001b[0mkeys\u001b[0m\u001b[0;34m(\u001b[0m\u001b[0;34m)\u001b[0m\u001b[0;34m]\u001b[0m\u001b[0;34m\u001b[0m\u001b[0;34m\u001b[0m\u001b[0m\n\u001b[0m\u001b[1;32m      8\u001b[0m \u001b[0mcombined\u001b[0m\u001b[0;34m\u001b[0m\u001b[0;34m\u001b[0m\u001b[0m\n",
      "\u001b[0;31mKeyError\u001b[0m: &#39;final_dataset/bokeh&#39;"
     ]
    }
   ],
   "source": [
    "#remove start of folder path for validation set\n",
    "files_per_project_val_new = {}\n",
    "for (key, value) in files_per_project_val.items():\n",
    "    new_key = \"/\".join(key.split(\"/\")[2:])\n",
    "    files_per_project_val_new[new_key] = value\n",
    "print(files_per_project_val_new.keys())\n",
    "combined = [(k, files_per_project_train[k], files_per_project_val_new[k]) for k in files_per_project_val_new.keys()]\n",
    "combined"
   ]
  }
 ]
}