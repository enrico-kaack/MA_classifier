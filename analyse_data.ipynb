{
 "metadata": {
  "language_info": {
   "codemirror_mode": {
    "name": "ipython",
    "version": 3
   },
   "file_extension": ".py",
   "mimetype": "text/x-python",
   "name": "python",
   "nbconvert_exporter": "python",
   "pygments_lexer": "ipython3",
   "version": "3.8.5-final"
  },
  "orig_nbformat": 2,
  "kernelspec": {
   "name": "python37364bitownclassifiervenv97636dc04982443f83ed0d68878d1cc4",
   "display_name": "Python 3.7.3 64-bit ('own_classifier': venv)"
  }
 },
 "nbformat": 4,
 "nbformat_minor": 2,
 "cells": [
  {
   "cell_type": "code",
   "execution_count": 6,
   "metadata": {
    "tags": []
   },
   "outputs": [],
   "source": [
    "from tasks.preprocessing import TaskRuleProcessor, ProblemType, TaskSourceFileToDataStructure\n",
    "from input.input_data_analysis import analyse_parsed_data, analyse_problems_per_project, analyse_files_per_project, analyse_total_file_size\n",
    "import d6tflow\n",
    "d6tflow.settings.log_level = 'WARNING' # 'DEBUG', 'INFO', 'WARNING', 'ERROR', 'CRITICAL'"
   ]
  },
  {
   "cell_type": "code",
   "execution_count": 7,
   "metadata": {
    "tags": []
   },
   "outputs": [
    {
     "output_type": "stream",
     "name": "stdout",
     "text": "Lines of Code: 1372290\nTotal Files: 6623\nLOCs per file 207.20066435150235\nLOCs containing probem RETURN_NULL: 0.00047876177775834554\nProblems per file for RETURN_NULL: 0.09919975841763551\nLOCs containing probem CONDITION_COMPARISON_SIMPLE: 0.015085003898592863\nProblems per file for CONDITION_COMPARISON_SIMPLE: 3.125622829533444\nLOCs containing probem CONDITION_COMPARISON: 0.0288729058726654\nProblems per file for CONDITION_COMPARISON: 5.982485278574664\n\\Total File Size\nTotal File Size [MB] 49.79906940460205\n\nProblems per project\n raw_data/keras-team: {'CONDITION_COMPARISON': 375, 'CONDITION_COMPARISON_SIMPLE': 300, 'RETURN_NULL': 4}\n raw_data/ansible: {'CONDITION_COMPARISON': 14256, 'CONDITION_COMPARISON_SIMPLE': 6642, 'RETURN_NULL': 232}\n raw_data/jakubroztocil: {'CONDITION_COMPARISON': 203, 'CONDITION_COMPARISON_SIMPLE': 62}\n raw_data/pallets: {'CONDITION_COMPARISON': 345, 'CONDITION_COMPARISON_SIMPLE': 214, 'RETURN_NULL': 7}\n raw_data/pytorch: {'CONDITION_COMPARISON': 11183, 'CONDITION_COMPARISON_SIMPLE': 6581, 'RETURN_NULL': 140}\n raw_data/django: {'CONDITION_COMPARISON': 7397, 'CONDITION_COMPARISON_SIMPLE': 3254, 'RETURN_NULL': 233}\n raw_data/scikit-learn: {'CONDITION_COMPARISON': 5863, 'CONDITION_COMPARISON_SIMPLE': 3648, 'RETURN_NULL': 41}\n\nFiles per project\n raw_data/keras-team: 172, 0.025970104182394683\n raw_data/ansible: 1399, 0.21123357994866374\n raw_data/jakubroztocil: 60, 0.009059338668277215\n raw_data/pallets: 71, 0.010720217424128039\n raw_data/pytorch: 1443, 0.21787709497206703\n raw_data/django: 2673, 0.40359353767174994\n raw_data/scikit-learn: 805, 0.12154612713271931\n"
    }
   ],
   "source": [
    "d6tflow.run(TaskRuleProcessor(input_src_path=\"raw_data\"))\n",
    "problems = TaskRuleProcessor(input_src_path=\"raw_data\").outputLoad()\n",
    "analyse_parsed_data(problems)\n",
    "print(\"\\Total File Size\")\n",
    "_ = analyse_total_file_size(problems)\n",
    "print(\"\\nProblems per project\")\n",
    "analyse_problems_per_project(problems, 2)\n",
    "print(\"\\nFiles per project\")\n",
    "_=analyse_files_per_project(problems, 2)\n"
   ]
  },
  {
   "cell_type": "markdown",
   "metadata": {},
   "source": [
    "## Extract a random validation set"
   ]
  },
  {
   "source": [
    "import random\n",
    "import os"
   ],
   "cell_type": "markdown",
   "metadata": {}
  },
  {
   "source": [
    "all_files = []\n",
    "for dir_path, dir_names, file_names in os.walk(\"final_dataset\"):\n",
    "            for f in file_names:\n",
    "                _, file_extension = os.path.splitext(f)\n",
    "                if file_extension == \".py\":\n",
    "                    file_path = os.path.join(dir_path, f)\n",
    "                    all_files.append(file_path)\n",
    "len(all_files)"
   ],
   "cell_type": "markdown",
   "metadata": {}
  },
  {
   "source": [
    "validation_ratio = 0.2\n",
    "\n",
    "sample = random.sample(all_files, k=int(validation_ratio*len(all_files)))\n",
    "len(all_files), len(sample)"
   ],
   "cell_type": "markdown",
   "metadata": {}
  },
  {
   "source": [
    "import os\n",
    "import shutil\n",
    "for f in sample:\n",
    "    target_path = os.path.join(\"final_validation/extracted\", f)\n",
    "    os.makedirs(os.path.dirname(target_path), exist_ok=True)\n",
    "    shutil.move(f, target_path)"
   ],
   "cell_type": "markdown",
   "metadata": {
    "tags": []
   }
  },
  {
   "source": [
    "with open(\"input/final_validation_extracted.txt\", \"w\") as outfile:\n",
    "    outfile.writelines(\"\\n\".join(sample))"
   ],
   "cell_type": "markdown",
   "metadata": {}
  },
  {
   "cell_type": "markdown",
   "metadata": {},
   "source": [
    "## Run analysis on remaining dataset"
   ]
  },
  {
   "cell_type": "code",
   "execution_count": 11,
   "metadata": {
    "tags": []
   },
   "outputs": [
    {
     "output_type": "stream",
     "name": "stdout",
     "text": "Lines of Code: 2789853\nTotal Files: 14811\nLOCs per file 188.36358112213895\nLOCs containing probem RETURN_NULL: 0.0007530862737212319\nProblems per file for RETURN_NULL: 0.1418540274120586\nLOCs containing probem CONDITION_COMPARISON_SIMPLE: 0.012978461589194842\nProblems per file for CONDITION_COMPARISON_SIMPLE: 2.444669502396867\nLOCs containing probem CONDITION_COMPARISON: 0.0235786616714214\nProblems per file for CONDITION_COMPARISON: 4.4413611504962525\n\\Total File Size\nTotal File Size [MB] 95.36326026916504\n\nProblems per project\n second_large_dataset/bokeh: {'CONDITION_COMPARISON': 1398, 'CONDITION_COMPARISON_SIMPLE': 842, 'RETURN_NULL': 65}\n second_large_dataset/pandas-dev: {'CONDITION_COMPARISON': 7752, 'CONDITION_COMPARISON_SIMPLE': 4512, 'RETURN_NULL': 114}\n second_large_dataset/docker: {'RETURN_NULL': 16, 'CONDITION_COMPARISON': 576, 'CONDITION_COMPARISON_SIMPLE': 296}\n second_large_dataset/google: {'RETURN_NULL': 26, 'CONDITION_COMPARISON': 316, 'CONDITION_COMPARISON_SIMPLE': 179}\n second_large_dataset/certbot: {'CONDITION_COMPARISON': 1337, 'CONDITION_COMPARISON_SIMPLE': 645, 'RETURN_NULL': 52}\n second_large_dataset/encode: {'CONDITION_COMPARISON': 590, 'CONDITION_COMPARISON_SIMPLE': 294, 'RETURN_NULL': 35}\n second_large_dataset/keras-team: {'CONDITION_COMPARISON': 285, 'CONDITION_COMPARISON_SIMPLE': 240, 'RETURN_NULL': 4}\n second_large_dataset/ansible: {'CONDITION_COMPARISON': 11095, 'CONDITION_COMPARISON_SIMPLE': 5183, 'RETURN_NULL': 189}\n second_large_dataset/jakubroztocil: {'CONDITION_COMPARISON': 108, 'CONDITION_COMPARISON_SIMPLE': 32}\n second_large_dataset/tiangolo: {'CONDITION_COMPARISON': 273, 'CONDITION_COMPARISON_SIMPLE': 92, 'RETURN_NULL': 14}\n second_large_dataset/explosion: {'CONDITION_COMPARISON': 1013, 'CONDITION_COMPARISON_SIMPLE': 637, 'RETURN_NULL': 15}\n second_large_dataset/home-assistant: {'RETURN_NULL': 1032, 'CONDITION_COMPARISON': 15449, 'CONDITION_COMPARISON_SIMPLE': 9547}\n second_large_dataset/pallets: {'CONDITION_COMPARISON': 296, 'CONDITION_COMPARISON_SIMPLE': 189, 'RETURN_NULL': 5}\n second_large_dataset/tornadoweb: {'CONDITION_COMPARISON': 1124, 'CONDITION_COMPARISON_SIMPLE': 639, 'RETURN_NULL': 77}\n second_large_dataset/pytorch: {'CONDITION_COMPARISON': 9186, 'CONDITION_COMPARISON_SIMPLE': 5419, 'RETURN_NULL': 103}\n second_large_dataset/django: {'CONDITION_COMPARISON': 5925, 'CONDITION_COMPARISON_SIMPLE': 2624, 'RETURN_NULL': 178}\n second_large_dataset/apache: {'CONDITION_COMPARISON': 4169, 'CONDITION_COMPARISON_SIMPLE': 1775, 'RETURN_NULL': 138}\n second_large_dataset/scikit-learn: {'CONDITION_COMPARISON': 4889, 'CONDITION_COMPARISON_SIMPLE': 3063, 'RETURN_NULL': 38}\n\nFiles per project\n second_large_dataset/bokeh: 894, 0.06036054283978124\n second_large_dataset/pandas-dev: 918, 0.061980960097225035\n second_large_dataset/docker: 67, 0.004523664843697252\n second_large_dataset/google: 50, 0.003375869286341233\n second_large_dataset/certbot: 283, 0.019107420160691377\n second_large_dataset/encode: 127, 0.008574707987306732\n second_large_dataset/keras-team: 141, 0.009519951387482276\n second_large_dataset/ansible: 1105, 0.07460671122814125\n second_large_dataset/jakubroztocil: 50, 0.003375869286341233\n second_large_dataset/tiangolo: 439, 0.029640132334076023\n second_large_dataset/explosion: 562, 0.03794477077847546\n second_large_dataset/home-assistant: 4146, 0.27992708122341503\n second_large_dataset/pallets: 54, 0.0036459388292485314\n second_large_dataset/tornadoweb: 84, 0.005671460401053271\n second_large_dataset/pytorch: 1186, 0.08007561947201404\n second_large_dataset/django: 2152, 0.14529741408412666\n second_large_dataset/apache: 1893, 0.12781041118087907\n second_large_dataset/scikit-learn: 660, 0.044561474579704274\n"
    }
   ],
   "source": [
    "#TaskSourceFileToDataStructure(input_src_path=\"second_large_dataset\").invalidate(confirm=False)\n",
    "d6tflow.run(TaskRuleProcessor(input_src_path=\"second_large_dataset\"))\n",
    "problems = TaskRuleProcessor(input_src_path=\"second_large_dataset\").outputLoad()\n",
    "analyse_parsed_data(problems)\n",
    "print(\"\\Total File Size\")\n",
    "_ = analyse_total_file_size(problems)\n",
    "print(\"\\nProblems per project\")\n",
    "analyse_problems_per_project(problems, 2)\n",
    "print(\"\\nFiles per project\")\n",
    "files_per_project_train =analyse_files_per_project(problems, 2)"
   ]
  },
  {
   "cell_type": "code",
   "execution_count": 8,
   "metadata": {
    "tags": []
   },
   "outputs": [
    {
     "output_type": "stream",
     "name": "stdout",
     "text": "Lines of Code: 2777268\nTotal Files: 14811\nLOCs per file 187.51387482276687\nLOCs containing probem RETURN_NULL: 0.000753258237951829\nProblems per file for RETURN_NULL: 0.14124637094051717\nLOCs containing probem CONDITION_COMPARISON_SIMPLE: 0.012796748459277247\nProblems per file for CONDITION_COMPARISON_SIMPLE: 2.3995678887313483\nLOCs containing probem CONDITION_COMPARISON: 0.02338305125756679\nProblems per file for CONDITION_COMPARISON: 4.38464654648572\n\\Total File Size\nTotal File Size [MB] 94.98248195648193\n\nProblems per project\n final_dataset/bokeh: {'CONDITION_COMPARISON': 1410, 'CONDITION_COMPARISON_SIMPLE': 838, 'RETURN_NULL': 64}\n final_dataset/pandas-dev: {'CONDITION_COMPARISON': 7038, 'CONDITION_COMPARISON_SIMPLE': 4155, 'RETURN_NULL': 106}\n final_dataset/docker: {'CONDITION_COMPARISON': 623, 'CONDITION_COMPARISON_SIMPLE': 308, 'RETURN_NULL': 22}\n final_dataset/google: {'CONDITION_COMPARISON': 242, 'CONDITION_COMPARISON_SIMPLE': 118, 'RETURN_NULL': 9}\n final_dataset/certbot: {'CONDITION_COMPARISON': 1495, 'CONDITION_COMPARISON_SIMPLE': 706, 'RETURN_NULL': 62}\n final_dataset/encode: {'CONDITION_COMPARISON': 579, 'CONDITION_COMPARISON_SIMPLE': 292, 'RETURN_NULL': 35}\n final_dataset/keras-team: {'CONDITION_COMPARISON': 289, 'CONDITION_COMPARISON_SIMPLE': 227, 'RETURN_NULL': 4}\n final_dataset/ansible: {'CONDITION_COMPARISON': 11639, 'CONDITION_COMPARISON_SIMPLE': 5361, 'RETURN_NULL': 181}\n final_dataset/jakubroztocil: {'CONDITION_COMPARISON': 141, 'CONDITION_COMPARISON_SIMPLE': 47}\n final_dataset/tiangolo: {'CONDITION_COMPARISON': 154, 'CONDITION_COMPARISON_SIMPLE': 57, 'RETURN_NULL': 13}\n final_dataset/explosion: {'CONDITION_COMPARISON': 1041, 'CONDITION_COMPARISON_SIMPLE': 653, 'RETURN_NULL': 10}\n final_dataset/home-assistant: {'RETURN_NULL': 1076, 'CONDITION_COMPARISON': 15633, 'CONDITION_COMPARISON_SIMPLE': 9560}\n final_dataset/pallets: {'CONDITION_COMPARISON': 192, 'CONDITION_COMPARISON_SIMPLE': 122, 'RETURN_NULL': 7}\n final_dataset/tornadoweb: {'CONDITION_COMPARISON': 1083, 'CONDITION_COMPARISON_SIMPLE': 636, 'RETURN_NULL': 39}\n final_dataset/pytorch: {'CONDITION_COMPARISON': 9204, 'CONDITION_COMPARISON_SIMPLE': 5424, 'RETURN_NULL': 116}\n final_dataset/django: {'RETURN_NULL': 180, 'CONDITION_COMPARISON': 5783, 'CONDITION_COMPARISON_SIMPLE': 2566}\n final_dataset/apache: {'CONDITION_COMPARISON': 3863, 'CONDITION_COMPARISON_SIMPLE': 1617, 'RETURN_NULL': 131}\n final_dataset/scikit-learn: {'CONDITION_COMPARISON': 4532, 'CONDITION_COMPARISON_SIMPLE': 2853, 'RETURN_NULL': 37}\n\nFiles per project\n final_dataset/bokeh: 916, 0.061845925325771385\n final_dataset/pandas-dev: 900, 0.06076564715414219\n final_dataset/docker: 64, 0.004321112686516778\n final_dataset/google: 46, 0.0031057997434339344\n final_dataset/certbot: 295, 0.019917628789413274\n final_dataset/encode: 118, 0.00796705151576531\n final_dataset/keras-team: 134, 0.009047329687394504\n final_dataset/ansible: 1127, 0.07609209371413139\n final_dataset/jakubroztocil: 48, 0.0032408345148875837\n final_dataset/tiangolo: 438, 0.0295726149483492\n final_dataset/explosion: 561, 0.03787725339274863\n final_dataset/home-assistant: 4160, 0.2808723246235906\n final_dataset/pallets: 52, 0.003510904057794882\n final_dataset/tornadoweb: 88, 0.0059415299439605695\n final_dataset/pytorch: 1176, 0.0794004456147458\n final_dataset/django: 2135, 0.14414961852677063\n final_dataset/apache: 1903, 0.12848558503814733\n final_dataset/scikit-learn: 650, 0.043886300722436024\n"
    }
   ],
   "source": [
    "#TaskSourceFileToDataStructure(input_src_path=\"second_large_dataset\").invalidate(confirm=False)\n",
    "d6tflow.run(TaskRuleProcessor(input_src_path=\"final_dataset\"))\n",
    "problems = TaskRuleProcessor(input_src_path=\"final_dataset\").outputLoad()\n",
    "analyse_parsed_data(problems)\n",
    "print(\"\\Total File Size\")\n",
    "_ = analyse_total_file_size(problems)\n",
    "print(\"\\nProblems per project\")\n",
    "analyse_problems_per_project(problems, 2)\n",
    "print(\"\\nFiles per project\")\n",
    "files_per_project_train =analyse_files_per_project(problems, 2)"
   ]
  },
  {
   "cell_type": "code",
   "execution_count": 9,
   "metadata": {
    "tags": []
   },
   "outputs": [
    {
     "output_type": "stream",
     "name": "stdout",
     "text": "Lines of Code: 671554\nTotal Files: 3702\nLOCs per file 181.40302539168016\nLOCs containing probem RETURN_NULL: 0.0007609216831408941\nProblems per file for RETURN_NULL: 0.13803349540788762\nLOCs containing probem CONDITION_COMPARISON_SIMPLE: 0.013246887070883354\nProblems per file for CONDITION_COMPARISON_SIMPLE: 2.4030253916801727\nLOCs containing probem CONDITION_COMPARISON: 0.02435991744520917\nProblems per file for CONDITION_COMPARISON: 4.418962722852513\n\\Total File Size\nTotal File Size [MB] 23.063316345214844\n\nProblems per project\n final_validation/extracted/final_dataset/bokeh: {'CONDITION_COMPARISON': 312, 'CONDITION_COMPARISON_SIMPLE': 189, 'RETURN_NULL': 12}\n final_validation/extracted/final_dataset/pandas-dev: {'CONDITION_COMPARISON': 1738, 'CONDITION_COMPARISON_SIMPLE': 939, 'RETURN_NULL': 21}\n final_validation/extracted/final_dataset/docker: {'RETURN_NULL': 10, 'CONDITION_COMPARISON': 152, 'CONDITION_COMPARISON_SIMPLE': 78}\n final_validation/extracted/final_dataset/google: {'RETURN_NULL': 20, 'CONDITION_COMPARISON': 139, 'CONDITION_COMPARISON_SIMPLE': 80}\n final_validation/extracted/final_dataset/certbot: {'CONDITION_COMPARISON': 225, 'CONDITION_COMPARISON_SIMPLE': 118, 'RETURN_NULL': 8}\n final_validation/extracted/final_dataset/encode: {'CONDITION_COMPARISON': 148, 'CONDITION_COMPARISON_SIMPLE': 69, 'RETURN_NULL': 9}\n final_validation/extracted/final_dataset/keras-team: {'CONDITION_COMPARISON': 86, 'CONDITION_COMPARISON_SIMPLE': 73}\n final_validation/extracted/final_dataset/ansible: {'CONDITION_COMPARISON': 2634, 'CONDITION_COMPARISON_SIMPLE': 1287, 'RETURN_NULL': 51}\n final_validation/extracted/final_dataset/jakubroztocil: {'CONDITION_COMPARISON': 69, 'CONDITION_COMPARISON_SIMPLE': 17}\n final_validation/extracted/final_dataset/tiangolo: {'CONDITION_COMPARISON': 146, 'CONDITION_COMPARISON_SIMPLE': 46, 'RETURN_NULL': 8}\n final_validation/extracted/final_dataset/explosion: {'CONDITION_COMPARISON': 301, 'CONDITION_COMPARISON_SIMPLE': 183, 'RETURN_NULL': 8}\n final_validation/extracted/final_dataset/home-assistant: {'CONDITION_COMPARISON': 3568, 'CONDITION_COMPARISON_SIMPLE': 2192, 'RETURN_NULL': 221}\n final_validation/extracted/final_dataset/pallets: {'CONDITION_COMPARISON': 153, 'CONDITION_COMPARISON_SIMPLE': 92}\n final_validation/extracted/final_dataset/tornadoweb: {'CONDITION_COMPARISON': 279, 'CONDITION_COMPARISON_SIMPLE': 146, 'RETURN_NULL': 41}\n final_validation/extracted/final_dataset/pytorch: {'CONDITION_COMPARISON': 2336, 'CONDITION_COMPARISON_SIMPLE': 1393, 'RETURN_NULL': 24}\n final_validation/extracted/final_dataset/django: {'CONDITION_COMPARISON': 1623, 'CONDITION_COMPARISON_SIMPLE': 689, 'RETURN_NULL': 54}\n final_validation/extracted/final_dataset/apache: {'CONDITION_COMPARISON': 1101, 'CONDITION_COMPARISON_SIMPLE': 498, 'RETURN_NULL': 20}\n final_validation/extracted/final_dataset/scikit-learn: {'CONDITION_COMPARISON': 1349, 'CONDITION_COMPARISON_SIMPLE': 807, 'RETURN_NULL': 4}\n\nFiles per project\n final_validation/extracted/final_dataset/bokeh: 219, 0.05915721231766612\n final_validation/extracted/final_dataset/pandas-dev: 224, 0.06050783360345759\n final_validation/extracted/final_dataset/docker: 19, 0.005132360886007563\n final_validation/extracted/final_dataset/google: 16, 0.004321988114532685\n final_validation/extracted/final_dataset/certbot: 70, 0.0189086980010805\n final_validation/extracted/final_dataset/encode: 37, 0.009994597514856833\n final_validation/extracted/final_dataset/keras-team: 38, 0.010264721772015126\n final_validation/extracted/final_dataset/ansible: 276, 0.07455429497568881\n final_validation/extracted/final_dataset/jakubroztocil: 13, 0.0035116153430578066\n final_validation/extracted/final_dataset/tiangolo: 97, 0.026202052944354404\n final_validation/extracted/final_dataset/explosion: 134, 0.036196650459211235\n final_validation/extracted/final_dataset/home-assistant: 1041, 0.28119935170178284\n final_validation/extracted/final_dataset/pallets: 19, 0.005132360886007563\n final_validation/extracted/final_dataset/tornadoweb: 21, 0.005672609400324149\n final_validation/extracted/final_dataset/pytorch: 297, 0.08022690437601297\n final_validation/extracted/final_dataset/django: 538, 0.14532685035116152\n final_validation/extracted/final_dataset/apache: 483, 0.13047001620745544\n final_validation/extracted/final_dataset/scikit-learn: 160, 0.04321988114532685\n"
    }
   ],
   "source": [
    "d6tflow.run(TaskRuleProcessor(input_src_path=\"final_validation\"))\n",
    "problems = TaskRuleProcessor(input_src_path=\"final_validation\").outputLoad()\n",
    "analyse_parsed_data(problems)\n",
    "print(\"\\Total File Size\")\n",
    "_ = analyse_total_file_size(problems)\n",
    "print(\"\\nProblems per project\")\n",
    "analyse_problems_per_project(problems, 4)\n",
    "print(\"\\nFiles per project\")\n",
    "files_per_project_val =analyse_files_per_project(problems, 4)"
   ]
  },
  {
   "cell_type": "code",
   "execution_count": 10,
   "metadata": {
    "tags": []
   },
   "outputs": [
    {
     "output_type": "stream",
     "name": "stdout",
     "text": "dict_keys(['final_dataset/bokeh', 'final_dataset/pandas-dev', 'final_dataset/docker', 'final_dataset/google', 'final_dataset/certbot', 'final_dataset/encode', 'final_dataset/keras-team', 'final_dataset/ansible', 'final_dataset/jakubroztocil', 'final_dataset/tiangolo', 'final_dataset/explosion', 'final_dataset/home-assistant', 'final_dataset/pallets', 'final_dataset/tornadoweb', 'final_dataset/pytorch', 'final_dataset/django', 'final_dataset/apache', 'final_dataset/scikit-learn'])\n"
    },
    {
     "output_type": "execute_result",
     "data": {
      "text/plain": "[('final_dataset/bokeh', 916, 219),\n ('final_dataset/pandas-dev', 900, 224),\n ('final_dataset/docker', 64, 19),\n ('final_dataset/google', 46, 16),\n ('final_dataset/certbot', 295, 70),\n ('final_dataset/encode', 118, 37),\n ('final_dataset/keras-team', 134, 38),\n ('final_dataset/ansible', 1127, 276),\n ('final_dataset/jakubroztocil', 48, 13),\n ('final_dataset/tiangolo', 438, 97),\n ('final_dataset/explosion', 561, 134),\n ('final_dataset/home-assistant', 4160, 1041),\n ('final_dataset/pallets', 52, 19),\n ('final_dataset/tornadoweb', 88, 21),\n ('final_dataset/pytorch', 1176, 297),\n ('final_dataset/django', 2135, 538),\n ('final_dataset/apache', 1903, 483),\n ('final_dataset/scikit-learn', 650, 160)]"
     },
     "metadata": {},
     "execution_count": 10
    }
   ],
   "source": [
    "#remove start of folder path for validation set\n",
    "files_per_project_val_new = {}\n",
    "for (key, value) in files_per_project_val.items():\n",
    "    new_key = \"/\".join(key.split(\"/\")[2:])\n",
    "    files_per_project_val_new[new_key] = value\n",
    "print(files_per_project_val_new.keys())\n",
    "combined = [(k, files_per_project_train[k], files_per_project_val_new[k]) for k in files_per_project_val_new.keys()]\n",
    "combined"
   ]
  }
 ]
}