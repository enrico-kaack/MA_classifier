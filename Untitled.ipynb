{
 "metadata": {
  "language_info": {
   "codemirror_mode": {
    "name": "ipython",
    "version": 3
   },
   "file_extension": ".py",
   "mimetype": "text/x-python",
   "name": "python",
   "nbconvert_exporter": "python",
   "pygments_lexer": "ipython3",
   "version": "3.8.5-final"
  },
  "orig_nbformat": 2,
  "kernelspec": {
   "name": "Python 3.8.5 64-bit ('own_classifier')",
   "display_name": "Python 3.8.5 64-bit ('own_classifier')",
   "metadata": {
    "interpreter": {
     "hash": "481a04de84f733f23568e961399ae0e7a7b604541b3a1990f5cb2b1d2205e6e7"
    }
   }
  }
 },
 "nbformat": 4,
 "nbformat_minor": 2,
 "cells": [
  {
   "cell_type": "code",
   "execution_count": 2,
   "metadata": {
    "tags": []
   },
   "outputs": [
    {
     "output_type": "stream",
     "name": "stderr",
     "text": "Loading postgres module without psycopg2 installed. Will crash at runtime if postgres functionality is used.\nWelcome to d6tflow!\n"
    }
   ],
   "source": [
    "from tasks.preprocessing import ProblemType\n",
    "from tasks.random_forest import TaskEvaluateRandomForest\n",
    "import d6tflow"
   ]
  },
  {
   "cell_type": "code",
   "execution_count": 3,
   "metadata": {},
   "outputs": [
    {
     "output_type": "error",
     "ename": "NameError",
     "evalue": "name &#39;d6tflow&#39; is not defined",
     "traceback": [
      "\u001b[0;31m---------------------------------------------------------------------------\u001b[0m",
      "\u001b[0;31mNameError\u001b[0m                                 Traceback (most recent call last)",
      "\u001b[0;32m&lt;ipython-input-3-25738606a9ac&gt;\u001b[0m in \u001b[0;36m&lt;module&gt;\u001b[0;34m\u001b[0m\n\u001b[1;32m      1\u001b[0m \u001b[0mt\u001b[0m \u001b[0;34m=\u001b[0m \u001b[0mTaskEvaluateRandomForest\u001b[0m\u001b[0;34m(\u001b[0m\u001b[0mproblem_type\u001b[0m\u001b[0;34m=\u001b[0m\u001b[0mProblemType\u001b[0m\u001b[0;34m.\u001b[0m\u001b[0mRETURN_NONE\u001b[0m\u001b[0;34m,\u001b[0m \u001b[0mtrain_dev_split_percentage\u001b[0m\u001b[0;34m=\u001b[0m\u001b[0;36m0.0\u001b[0m\u001b[0;34m)\u001b[0m\u001b[0;34m\u001b[0m\u001b[0;34m\u001b[0m\u001b[0m\n\u001b[0;32m----&gt; 2\u001b[0;31m \u001b[0md6tflow\u001b[0m\u001b[0;34m.\u001b[0m\u001b[0mrun\u001b[0m\u001b[0;34m(\u001b[0m\u001b[0mt\u001b[0m\u001b[0;34m)\u001b[0m\u001b[0;34m\u001b[0m\u001b[0;34m\u001b[0m\u001b[0m\n\u001b[0m",
      "\u001b[0;31mNameError\u001b[0m: name &#39;d6tflow&#39; is not defined"
     ]
    }
   ],
   "source": [
    "t = TaskEvaluateRandomForest(problem_type=ProblemType.RETURN_NONE, train_dev_split_percentage=0.0)\n",
    "d6tflow.run(t)"
   ]
  }
 ]
}